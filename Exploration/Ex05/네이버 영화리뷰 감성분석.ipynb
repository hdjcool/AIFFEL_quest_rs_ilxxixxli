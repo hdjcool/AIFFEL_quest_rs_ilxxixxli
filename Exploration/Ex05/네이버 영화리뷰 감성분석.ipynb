{
 "cells": [
  {
   "cell_type": "code",
   "execution_count": 1,
   "id": "f02b0b18",
   "metadata": {},
   "outputs": [
    {
     "name": "stdout",
     "output_type": "stream",
     "text": [
      "1.3.3\n",
      "0.5.2\n",
      "4.1.2\n"
     ]
    }
   ],
   "source": [
    "import pandas\n",
    "import konlpy\n",
    "import gensim\n",
    "import tensorflow as tf\n",
    "\n",
    "print(pandas.__version__)\n",
    "print(konlpy.__version__)\n",
    "print(gensim.__version__)"
   ]
  },
  {
   "cell_type": "markdown",
   "id": "b808f66c",
   "metadata": {},
   "source": [
    "## 데이터 준비와 확인"
   ]
  },
  {
   "cell_type": "code",
   "execution_count": 2,
   "id": "30805994",
   "metadata": {},
   "outputs": [
    {
     "data": {
      "text/html": [
       "<div>\n",
       "<style scoped>\n",
       "    .dataframe tbody tr th:only-of-type {\n",
       "        vertical-align: middle;\n",
       "    }\n",
       "\n",
       "    .dataframe tbody tr th {\n",
       "        vertical-align: top;\n",
       "    }\n",
       "\n",
       "    .dataframe thead th {\n",
       "        text-align: right;\n",
       "    }\n",
       "</style>\n",
       "<table border=\"1\" class=\"dataframe\">\n",
       "  <thead>\n",
       "    <tr style=\"text-align: right;\">\n",
       "      <th></th>\n",
       "      <th>id</th>\n",
       "      <th>document</th>\n",
       "      <th>label</th>\n",
       "    </tr>\n",
       "  </thead>\n",
       "  <tbody>\n",
       "    <tr>\n",
       "      <th>0</th>\n",
       "      <td>9976970</td>\n",
       "      <td>아 더빙.. 진짜 짜증나네요 목소리</td>\n",
       "      <td>0</td>\n",
       "    </tr>\n",
       "    <tr>\n",
       "      <th>1</th>\n",
       "      <td>3819312</td>\n",
       "      <td>흠...포스터보고 초딩영화줄....오버연기조차 가볍지 않구나</td>\n",
       "      <td>1</td>\n",
       "    </tr>\n",
       "    <tr>\n",
       "      <th>2</th>\n",
       "      <td>10265843</td>\n",
       "      <td>너무재밓었다그래서보는것을추천한다</td>\n",
       "      <td>0</td>\n",
       "    </tr>\n",
       "    <tr>\n",
       "      <th>3</th>\n",
       "      <td>9045019</td>\n",
       "      <td>교도소 이야기구먼 ..솔직히 재미는 없다..평점 조정</td>\n",
       "      <td>0</td>\n",
       "    </tr>\n",
       "    <tr>\n",
       "      <th>4</th>\n",
       "      <td>6483659</td>\n",
       "      <td>사이몬페그의 익살스런 연기가 돋보였던 영화!스파이더맨에서 늙어보이기만 했던 커스틴 ...</td>\n",
       "      <td>1</td>\n",
       "    </tr>\n",
       "    <tr>\n",
       "      <th>5</th>\n",
       "      <td>5403919</td>\n",
       "      <td>막 걸음마 뗀 3세부터 초등학교 1학년생인 8살용영화.ㅋㅋㅋ...별반개도 아까움.</td>\n",
       "      <td>0</td>\n",
       "    </tr>\n",
       "    <tr>\n",
       "      <th>6</th>\n",
       "      <td>7797314</td>\n",
       "      <td>원작의 긴장감을 제대로 살려내지못했다.</td>\n",
       "      <td>0</td>\n",
       "    </tr>\n",
       "    <tr>\n",
       "      <th>7</th>\n",
       "      <td>9443947</td>\n",
       "      <td>별 반개도 아깝다 욕나온다 이응경 길용우 연기생활이몇년인지..정말 발로해도 그것보단...</td>\n",
       "      <td>0</td>\n",
       "    </tr>\n",
       "    <tr>\n",
       "      <th>8</th>\n",
       "      <td>7156791</td>\n",
       "      <td>액션이 없는데도 재미 있는 몇안되는 영화</td>\n",
       "      <td>1</td>\n",
       "    </tr>\n",
       "    <tr>\n",
       "      <th>9</th>\n",
       "      <td>5912145</td>\n",
       "      <td>왜케 평점이 낮은건데? 꽤 볼만한데.. 헐리우드식 화려함에만 너무 길들여져 있나?</td>\n",
       "      <td>1</td>\n",
       "    </tr>\n",
       "  </tbody>\n",
       "</table>\n",
       "</div>"
      ],
      "text/plain": [
       "         id                                           document  label\n",
       "0   9976970                                아 더빙.. 진짜 짜증나네요 목소리      0\n",
       "1   3819312                  흠...포스터보고 초딩영화줄....오버연기조차 가볍지 않구나      1\n",
       "2  10265843                                  너무재밓었다그래서보는것을추천한다      0\n",
       "3   9045019                      교도소 이야기구먼 ..솔직히 재미는 없다..평점 조정      0\n",
       "4   6483659  사이몬페그의 익살스런 연기가 돋보였던 영화!스파이더맨에서 늙어보이기만 했던 커스틴 ...      1\n",
       "5   5403919      막 걸음마 뗀 3세부터 초등학교 1학년생인 8살용영화.ㅋㅋㅋ...별반개도 아까움.      0\n",
       "6   7797314                              원작의 긴장감을 제대로 살려내지못했다.      0\n",
       "7   9443947  별 반개도 아깝다 욕나온다 이응경 길용우 연기생활이몇년인지..정말 발로해도 그것보단...      0\n",
       "8   7156791                             액션이 없는데도 재미 있는 몇안되는 영화      1\n",
       "9   5912145      왜케 평점이 낮은건데? 꽤 볼만한데.. 헐리우드식 화려함에만 너무 길들여져 있나?      1"
      ]
     },
     "execution_count": 2,
     "metadata": {},
     "output_type": "execute_result"
    }
   ],
   "source": [
    "import pandas as pd\n",
    " \n",
    "train_data = pd.read_table('~/aiffel/sentiment_classification/data/ratings_train.txt')\n",
    "test_data = pd.read_table('~/aiffel/sentiment_classification/data/ratings_test.txt')\n",
    "\n",
    "train_data.head(10)"
   ]
  },
  {
   "cell_type": "markdown",
   "id": "c8b6a8e6",
   "metadata": {},
   "source": [
    "## 데이터 로더 구성"
   ]
  },
  {
   "cell_type": "code",
   "execution_count": 3,
   "id": "9aa45d8e",
   "metadata": {},
   "outputs": [
    {
     "name": "stdout",
     "output_type": "stream",
     "text": [
      "훈련 샘플 개수: 146182, 테스트 개수: 49157\n"
     ]
    }
   ],
   "source": [
    "from konlpy.tag import Mecab\n",
    "import numpy as np\n",
    "from collections import Counter\n",
    "\n",
    "tokenizer = Mecab()\n",
    "stopwords = ['조금', '같았다','것', '의','가','이','은','들','는','좀','잘','걍','과','도','를','으로','자','에','와','한','하다']\n",
    "\n",
    "def load_data(train_data, test_data, num_words=10000):\n",
    "    #중복 제거\n",
    "    train_data.drop_duplicates(subset=['document'], inplace=True)\n",
    "    test_data.drop_duplicates(subset=['document'], inplace=True)\n",
    "    #결측치 제거\n",
    "    train_data = train_data.dropna(how = 'any') \n",
    "    test_data = test_data.dropna(how = 'any') \n",
    "    \n",
    "    X_train = []\n",
    "    for sentence in train_data['document']:\n",
    "        temp_X = tokenizer.morphs(sentence) # 토큰화\n",
    "        temp_X = [word for word in temp_X if not word in stopwords] # 불용어 제거\n",
    "        X_train.append(temp_X)\n",
    "\n",
    "    X_test = []\n",
    "    for sentence in test_data['document']:\n",
    "        temp_X = tokenizer.morphs(sentence) # 토큰화\n",
    "        temp_X = [word for word in temp_X if not word in stopwords] # 불용어 제거\n",
    "        X_test.append(temp_X)\n",
    "    \n",
    "    #단어사전 만들기\n",
    "    words = np.concatenate(X_train).tolist()\n",
    "    counter = Counter(words)\n",
    "    counter = counter.most_common(10000-4)\n",
    "    vocab = ['', '', '', ''] + [key for key, _ in counter]\n",
    "    word_to_index = {word:index for index, word in enumerate(vocab)}\n",
    "    \n",
    "    index_to_word = {index:word for word, index in word_to_index.items()}\n",
    "    \n",
    "    word_to_index[\"<PAD>\"] = 0\n",
    "    word_to_index[\"<BOS>\"] = 1\n",
    "    word_to_index[\"<UNK>\"] = 2 \n",
    "    word_to_index[\"<UNUSED>\"] = 3\n",
    "        \n",
    "    def wordlist_to_indexlist(wordlist):\n",
    "        return [word_to_index[word] if word in word_to_index else word_to_index[''] for word in wordlist]\n",
    "        \n",
    "    X_train = list(map(wordlist_to_indexlist, X_train))\n",
    "    X_test = list(map(wordlist_to_indexlist, X_test))\n",
    "        \n",
    "    return X_train, np.array(list(train_data['label'])), X_test, np.array(list(test_data['label'])), word_to_index\n",
    "    \n",
    "X_train, y_train, X_test, y_test, word_to_index = load_data(train_data, test_data) \n",
    "print(f\"훈련 샘플 개수: {len(X_train)}, 테스트 개수: {len(X_test)}\")\n"
   ]
  },
  {
   "cell_type": "code",
   "execution_count": 4,
   "id": "fab37265",
   "metadata": {},
   "outputs": [],
   "source": [
    "# 문장 1개를 활용할 딕셔너리와 함께 주면, 단어 인덱스 리스트 벡터로 변환해 주는 함수입니다. \n",
    "# 단, 모든 문장은 <BOS>로 시작하는 것으로 합니다. \n",
    "\n",
    "def get_encoded_sentence(sentence, word_to_index):\n",
    "    return [word_to_index['<BOS>']]+[word_to_index[word] if word in word_to_index else word_to_index['<UNK>'] for word in sentence.split()]\n",
    "\n",
    "# 여러 개의 문장 리스트를 한꺼번에 단어 인덱스 리스트 벡터로 encode해 주는 함수입니다. \n",
    "def get_encoded_sentences(sentences, word_to_index):\n",
    "    return [get_encoded_sentence(sentence, word_to_index) for sentence in sentences]\n",
    "\n",
    "# 숫자 벡터로 encode된 문장을 원래대로 decode하는 함수입니다. \n",
    "def get_decoded_sentence(encoded_sentence, index_to_word):\n",
    "    return ' '.join(index_to_word[index] if index in index_to_word else '<UNK>' for index in encoded_sentence[1:])  #[1:]를 통해 <BOS>를 제외\n",
    "\n",
    "# 여러 개의 숫자 벡터로 encode된 문장을 한꺼번에 원래대로 decode하는 함수입니다. \n",
    "def get_decoded_sentences(encoded_sentences, index_to_word):\n",
    "    return [get_decoded_sentence(encoded_sentence, index_to_word) for encoded_sentence in encoded_sentences]"
   ]
  },
  {
   "cell_type": "markdown",
   "id": "37915372",
   "metadata": {},
   "source": [
    "## 모델 구성을 위한 데이터분석 및 가공"
   ]
  },
  {
   "cell_type": "markdown",
   "id": "381bc67c",
   "metadata": {},
   "source": [
    "maxlen, padding 설정"
   ]
  },
  {
   "cell_type": "code",
   "execution_count": 5,
   "id": "94d8e6e3",
   "metadata": {},
   "outputs": [],
   "source": [
    "\n",
    "# 두개의 기능 하나의 함수로 구현\n",
    "def prepare_data_with_padding(X_train, X_test, word_to_index, padding='post', maxlen=None):\n",
    "    \"\"\"\n",
    "    X_train과 X_test 데이터를 결합하여 문장 길이를 분석하고, 패딩을 적용하는 함수.\n",
    "\n",
    "    Args:\n",
    "    - X_train: 리스트, 훈련 데이터 (숫자 인덱스 시퀀스)\n",
    "    - X_test: 리스트, 테스트 데이터 (숫자 인덱스 시퀀스)\n",
    "    - word_to_index: 딕셔너리, 단어-인덱스 매핑\n",
    "    - padding: 문자열, 패딩 위치 ('pre' 또는 'post')\n",
    "    - maxlen: 정수, 시퀀스의 최대 길이 (None일 경우 자동 계산)\n",
    "\n",
    "    Returns:\n",
    "    - X_train_padded: 넘파이 배열, 패딩이 적용된 훈련 데이터\n",
    "    - X_test_padded: 넘파이 배열, 패딩이 적용된 테스트 데이터\n",
    "    - maxlen: 시퀀스의 최대 길이\n",
    "    \"\"\"\n",
    "    # 1. X_train과 X_test를 결합하여 문장 길이 분석\n",
    "    total_data_text = list(X_train) + list(X_test)\n",
    "    num_tokens = [len(tokens) for tokens in total_data_text]\n",
    "    num_tokens = np.array(num_tokens)\n",
    "\n",
    "    # 문장 길이 통계 계산\n",
    "    mean_length = np.mean(num_tokens)\n",
    "    max_length = np.max(num_tokens)\n",
    "    std_dev = np.std(num_tokens)\n",
    "\n",
    "    print('문장길이 평균 : ', mean_length)\n",
    "    print('문장길이 최대 : ', max_length)\n",
    "    print('문장길이 표준편차 : ', std_dev)\n",
    "\n",
    "    # 최대 문장 길이 설정 (평균 + 2*표준편차)\n",
    "    if maxlen is None:\n",
    "        maxlen = int(mean_length + 2 * std_dev)\n",
    "    print('pad_sequences maxlen : ', maxlen)\n",
    "    print(f'전체 문장의 {np.sum(num_tokens < maxlen) / len(num_tokens) * 100:.2f}%가 maxlen 설정값 이내에 포함됩니다.')\n",
    "\n",
    "    # 2. 패딩 적용\n",
    "    X_train_padded = tf.keras.preprocessing.sequence.pad_sequences(\n",
    "        X_train,\n",
    "        value=word_to_index[\"\"],\n",
    "        padding=padding,\n",
    "        maxlen=maxlen\n",
    "    )\n",
    "\n",
    "    X_test_padded = tf.keras.preprocessing.sequence.pad_sequences(\n",
    "        X_test,\n",
    "        value=word_to_index[\"\"],\n",
    "        padding=padding,\n",
    "        maxlen=maxlen\n",
    "    )\n",
    "\n",
    "    # 결과 반환\n",
    "    return X_train_padded, X_test_padded, maxlen\n",
    "\n",
    "     "
   ]
  },
  {
   "cell_type": "markdown",
   "id": "6436cf81",
   "metadata": {},
   "source": [
    "## 모델 구성 및 validation set 구성"
   ]
  },
  {
   "cell_type": "code",
   "execution_count": 6,
   "id": "5a36aab4",
   "metadata": {},
   "outputs": [
    {
     "name": "stdout",
     "output_type": "stream",
     "text": [
      "문장길이 평균 :  15.900066039039823\n",
      "문장길이 최대 :  116\n",
      "문장길이 표준편차 :  12.769373195633277\n",
      "pad_sequences maxlen :  41\n",
      "전체 문장의 93.15%가 maxlen 설정값 이내에 포함됩니다.\n"
     ]
    }
   ],
   "source": [
    "\n",
    "# 하이퍼파라미터 설정\n",
    "vocab_size = 10000  # 단어 사전 크기\n",
    "word_vector_dim = 16  # 단어 임베딩 벡터 차원\n",
    "batch_size = 64  # 학습 배치 크기\n",
    "epochs = 15  # 학습 에포크 수\n",
    "\n",
    "# 데이터 로드 및 전처리\n",
    "X_train, y_train, X_test, y_test, word_to_index = load_data(train_data, test_data)\n",
    "\n",
    "# prepare_data_with_padding에 word_to_index를 추가로 전달\n",
    "X_train_padded, X_test_padded, maxlen = prepare_data_with_padding(X_train, X_test, word_to_index)\n",
    "\n",
    "# 훈련 데이터와 검증 데이터를 나눔\n",
    "from sklearn.model_selection import train_test_split\n",
    "X_train_final, X_val, y_train_final, y_val = train_test_split(X_train_padded, y_train, test_size=0.2, random_state=42)\n"
   ]
  },
  {
   "cell_type": "markdown",
   "id": "f1884a3a",
   "metadata": {},
   "source": [
    "## 모델 훈련"
   ]
  },
  {
   "cell_type": "markdown",
   "id": "ab7f24cc",
   "metadata": {},
   "source": [
    "모델 1 : LSTM(8)"
   ]
  },
  {
   "cell_type": "code",
   "execution_count": 7,
   "id": "0b3afd4f",
   "metadata": {},
   "outputs": [
    {
     "name": "stdout",
     "output_type": "stream",
     "text": [
      "Model: \"sequential\"\n",
      "_________________________________________________________________\n",
      "Layer (type)                 Output Shape              Param #   \n",
      "=================================================================\n",
      "embedding (Embedding)        (None, None, 16)          160000    \n",
      "_________________________________________________________________\n",
      "lstm (LSTM)                  (None, 8)                 800       \n",
      "_________________________________________________________________\n",
      "dense (Dense)                (None, 8)                 72        \n",
      "_________________________________________________________________\n",
      "dense_1 (Dense)              (None, 1)                 9         \n",
      "=================================================================\n",
      "Total params: 160,881\n",
      "Trainable params: 160,881\n",
      "Non-trainable params: 0\n",
      "_________________________________________________________________\n"
     ]
    }
   ],
   "source": [
    "model1 = tf.keras.Sequential()\n",
    "model1.add(tf.keras.layers.Embedding(vocab_size, word_vector_dim, input_shape=(None,)))\n",
    "model1.add(tf.keras.layers.LSTM(8))  # LSTM 레이어의 출력 벡터 크기를 8로 설정\n",
    "model1.add(tf.keras.layers.Dense(8, activation='relu'))\n",
    "model1.add(tf.keras.layers.Dense(1, activation='sigmoid'))  # 최종 출력: 긍정/부정\n",
    "\n",
    "\n",
    "model1.summary()\n",
    "     "
   ]
  },
  {
   "cell_type": "code",
   "execution_count": 8,
   "id": "2047486d",
   "metadata": {},
   "outputs": [
    {
     "name": "stdout",
     "output_type": "stream",
     "text": [
      "Epoch 1/15\n",
      "1828/1828 [==============================] - 13s 5ms/step - loss: 0.4153 - accuracy: 0.7976 - val_loss: 0.3501 - val_accuracy: 0.8471\n",
      "Epoch 2/15\n",
      "1828/1828 [==============================] - 9s 5ms/step - loss: 0.3271 - accuracy: 0.8586 - val_loss: 0.3530 - val_accuracy: 0.8439\n",
      "Epoch 3/15\n",
      "1828/1828 [==============================] - 9s 5ms/step - loss: 0.3019 - accuracy: 0.8696 - val_loss: 0.3449 - val_accuracy: 0.8542\n",
      "Epoch 4/15\n",
      "1828/1828 [==============================] - 9s 5ms/step - loss: 0.2785 - accuracy: 0.8805 - val_loss: 0.3421 - val_accuracy: 0.8519\n",
      "Epoch 5/15\n",
      "1828/1828 [==============================] - 9s 5ms/step - loss: 0.2569 - accuracy: 0.8906 - val_loss: 0.3592 - val_accuracy: 0.8420\n",
      "Epoch 6/15\n",
      "1828/1828 [==============================] - 9s 5ms/step - loss: 0.2390 - accuracy: 0.8981 - val_loss: 0.3746 - val_accuracy: 0.8540\n",
      "Epoch 7/15\n",
      "1828/1828 [==============================] - 9s 5ms/step - loss: 0.2244 - accuracy: 0.9057 - val_loss: 0.3899 - val_accuracy: 0.8504\n",
      "Epoch 8/15\n",
      "1828/1828 [==============================] - 9s 5ms/step - loss: 0.2108 - accuracy: 0.9115 - val_loss: 0.3863 - val_accuracy: 0.8516\n",
      "Epoch 9/15\n",
      "1828/1828 [==============================] - 9s 5ms/step - loss: 0.1991 - accuracy: 0.9177 - val_loss: 0.4162 - val_accuracy: 0.8483\n",
      "Epoch 10/15\n",
      "1828/1828 [==============================] - 9s 5ms/step - loss: 0.1895 - accuracy: 0.9226 - val_loss: 0.4376 - val_accuracy: 0.8436\n",
      "Epoch 11/15\n",
      "1828/1828 [==============================] - 9s 5ms/step - loss: 0.1798 - accuracy: 0.9273 - val_loss: 0.4416 - val_accuracy: 0.8481\n",
      "Epoch 12/15\n",
      "1828/1828 [==============================] - 9s 5ms/step - loss: 0.1723 - accuracy: 0.9299 - val_loss: 0.4797 - val_accuracy: 0.8463\n",
      "Epoch 13/15\n",
      "1828/1828 [==============================] - 9s 5ms/step - loss: 0.1653 - accuracy: 0.9342 - val_loss: 0.5021 - val_accuracy: 0.8455\n",
      "Epoch 14/15\n",
      "1828/1828 [==============================] - 9s 5ms/step - loss: 0.1568 - accuracy: 0.9370 - val_loss: 0.4968 - val_accuracy: 0.8455\n",
      "Epoch 15/15\n",
      "1828/1828 [==============================] - 9s 5ms/step - loss: 0.1509 - accuracy: 0.9401 - val_loss: 0.5229 - val_accuracy: 0.8458\n",
      "1537/1537 [==============================] - 3s 2ms/step - loss: 0.5190 - accuracy: 0.8412\n",
      "테스트 손실: 0.5189562439918518\n",
      "테스트 정확도: 0.8412433862686157\n"
     ]
    }
   ],
   "source": [
    "# 모델 컴파일\n",
    "model1.compile(optimizer='adam', loss='binary_crossentropy', metrics=['accuracy'])\n",
    "\n",
    "# 모델 학습\n",
    "history1 = model1.fit(\n",
    "    X_train_final, y_train_final,\n",
    "    epochs=epochs,\n",
    "    batch_size=batch_size,\n",
    "    validation_data=(X_val, y_val)\n",
    ")\n",
    "\n",
    "# 모델 평가\n",
    "test_loss, test_accuracy = model1.evaluate(X_test_padded, y_test)\n",
    "print(f\"테스트 손실: {test_loss}\")\n",
    "print(f\"테스트 정확도: {test_accuracy}\")"
   ]
  },
  {
   "cell_type": "markdown",
   "id": "9f662bea",
   "metadata": {},
   "source": [
    "모델 2 : LSTM + Dropout (https://www.kaggle.com/code/furkannakdagg/sentiment-analysis-with-lstm)"
   ]
  },
  {
   "cell_type": "code",
   "execution_count": 9,
   "id": "075a89c9",
   "metadata": {},
   "outputs": [
    {
     "name": "stdout",
     "output_type": "stream",
     "text": [
      "Epoch 1/15\n",
      "1828/1828 [==============================] - 16s 8ms/step - loss: 0.5087 - accuracy: 0.7301 - val_loss: 0.3579 - val_accuracy: 0.8428\n",
      "Epoch 2/15\n",
      "1828/1828 [==============================] - 14s 7ms/step - loss: 0.3501 - accuracy: 0.8531 - val_loss: 0.3304 - val_accuracy: 0.8565\n",
      "Epoch 3/15\n",
      "1828/1828 [==============================] - 14s 8ms/step - loss: 0.3111 - accuracy: 0.8713 - val_loss: 0.3150 - val_accuracy: 0.8640\n",
      "Epoch 4/15\n",
      "1828/1828 [==============================] - 14s 8ms/step - loss: 0.2845 - accuracy: 0.8835 - val_loss: 0.3221 - val_accuracy: 0.8657\n",
      "Epoch 5/15\n",
      "1828/1828 [==============================] - 14s 8ms/step - loss: 0.2654 - accuracy: 0.8916 - val_loss: 0.3434 - val_accuracy: 0.8658\n",
      "Epoch 6/15\n",
      "1828/1828 [==============================] - 14s 7ms/step - loss: 0.2503 - accuracy: 0.8985 - val_loss: 0.3316 - val_accuracy: 0.8644\n",
      "Epoch 7/15\n",
      "1828/1828 [==============================] - 14s 8ms/step - loss: 0.2370 - accuracy: 0.9051 - val_loss: 0.3354 - val_accuracy: 0.8670\n",
      "Epoch 8/15\n",
      "1828/1828 [==============================] - 14s 8ms/step - loss: 0.2255 - accuracy: 0.9105 - val_loss: 0.3458 - val_accuracy: 0.8657\n",
      "Epoch 9/15\n",
      "1828/1828 [==============================] - 14s 8ms/step - loss: 0.2139 - accuracy: 0.9158 - val_loss: 0.3634 - val_accuracy: 0.8637\n",
      "Epoch 10/15\n",
      "1828/1828 [==============================] - 14s 8ms/step - loss: 0.2023 - accuracy: 0.9205 - val_loss: 0.3968 - val_accuracy: 0.8635\n",
      "Epoch 11/15\n",
      "1828/1828 [==============================] - 14s 8ms/step - loss: 0.1931 - accuracy: 0.9233 - val_loss: 0.4002 - val_accuracy: 0.8620\n",
      "Epoch 12/15\n",
      "1828/1828 [==============================] - 14s 8ms/step - loss: 0.1848 - accuracy: 0.9273 - val_loss: 0.4032 - val_accuracy: 0.8614\n",
      "Epoch 13/15\n",
      "1828/1828 [==============================] - 14s 8ms/step - loss: 0.1808 - accuracy: 0.9297 - val_loss: 0.4595 - val_accuracy: 0.8618\n",
      "Epoch 14/15\n",
      "1828/1828 [==============================] - 14s 8ms/step - loss: 0.1722 - accuracy: 0.9332 - val_loss: 0.4253 - val_accuracy: 0.8604\n",
      "Epoch 15/15\n",
      "1828/1828 [==============================] - 14s 8ms/step - loss: 0.1664 - accuracy: 0.9351 - val_loss: 0.4443 - val_accuracy: 0.8612\n",
      "1537/1537 [==============================] - 4s 3ms/step - loss: 0.4492 - accuracy: 0.8601\n",
      "테스트 손실: 0.4492166340351105\n",
      "테스트 정확도: 0.8601216673851013\n"
     ]
    }
   ],
   "source": [
    "model2 = tf.keras.Sequential()\n",
    "# Add an embedding layer and a dropout\n",
    "model2.add(tf.keras.layers.Embedding(input_dim=10000, output_dim=256))\n",
    "model2.add(tf.keras.layers.Dropout(0.7))\n",
    "\n",
    "#Add a LSTM layer with dropout\n",
    "model2.add(tf.keras.layers.LSTM(256))\n",
    "model2.add(tf.keras.layers.Dropout(0.7))  # dropout for LSTM Layer\n",
    "\n",
    "# Add a Dense layer with dropout\n",
    "model2.add(tf.keras.layers.Dense(128, activation=\"relu\"))\n",
    "model2.add(tf.keras.layers.Dropout(0.7))\n",
    "\n",
    "# Add the output layer\n",
    "# In output layer number of nodes=number of classes => Since we are doing binary classification, there will be 1 node\n",
    "# The output will be 0 or 1 with sigmoid\n",
    "model2.add(tf.keras.layers.Dense(1, activation=\"sigmoid\"))\n",
    "\n",
    "model2.compile(optimizer=\"adam\", loss=\"binary_crossentropy\", metrics=[\"accuracy\"])\n",
    "\n",
    "# 모델 학습\n",
    "history2 = model2.fit(\n",
    "    X_train_final, y_train_final,\n",
    "    epochs=epochs,\n",
    "    batch_size=batch_size,\n",
    "    validation_data=(X_val, y_val)\n",
    ")\n",
    "\n",
    "# 모델 평가\n",
    "test_loss, test_accuracy = model2.evaluate(X_test_padded, y_test)\n",
    "print(f\"테스트 손실: {test_loss}\")\n",
    "print(f\"테스트 정확도: {test_accuracy}\")"
   ]
  },
  {
   "cell_type": "markdown",
   "id": "6fc8e599",
   "metadata": {},
   "source": [
    "모델 3 : Transformer"
   ]
  },
  {
   "cell_type": "code",
   "execution_count": 18,
   "id": "7a50e040",
   "metadata": {},
   "outputs": [
    {
     "name": "stdout",
     "output_type": "stream",
     "text": [
      "Model: \"model_5\"\n",
      "_________________________________________________________________\n",
      "Layer (type)                 Output Shape              Param #   \n",
      "=================================================================\n",
      "input_6 (InputLayer)         [(None, 41)]              0         \n",
      "_________________________________________________________________\n",
      "embedding_7 (Embedding)      (None, 41, 128)           1280000   \n",
      "_________________________________________________________________\n",
      "transformer_block_5 (Transfo (None, 41, 128)           330240    \n",
      "_________________________________________________________________\n",
      "global_average_pooling1d_5 ( (None, 128)               0         \n",
      "_________________________________________________________________\n",
      "dropout_25 (Dropout)         (None, 128)               0         \n",
      "_________________________________________________________________\n",
      "dense_26 (Dense)             (None, 256)               33024     \n",
      "_________________________________________________________________\n",
      "dense_27 (Dense)             (None, 1)                 257       \n",
      "=================================================================\n",
      "Total params: 1,643,521\n",
      "Trainable params: 1,643,521\n",
      "Non-trainable params: 0\n",
      "_________________________________________________________________\n",
      "Epoch 1/15\n",
      "1828/1828 [==============================] - 18s 9ms/step - loss: 0.4161 - accuracy: 0.8076 - val_loss: 0.3617 - val_accuracy: 0.8458\n",
      "Epoch 2/15\n",
      "1828/1828 [==============================] - 16s 9ms/step - loss: 0.3479 - accuracy: 0.8498 - val_loss: 0.4082 - val_accuracy: 0.8096\n",
      "Epoch 3/15\n",
      "1828/1828 [==============================] - 16s 9ms/step - loss: 0.3345 - accuracy: 0.8575 - val_loss: 0.3495 - val_accuracy: 0.8492\n",
      "Epoch 4/15\n",
      "1828/1828 [==============================] - 16s 9ms/step - loss: 0.3263 - accuracy: 0.8625 - val_loss: 0.3496 - val_accuracy: 0.8492\n",
      "Epoch 5/15\n",
      "1828/1828 [==============================] - 16s 9ms/step - loss: 0.3191 - accuracy: 0.8659 - val_loss: 0.3670 - val_accuracy: 0.8388\n",
      "Epoch 6/15\n",
      "1828/1828 [==============================] - 16s 9ms/step - loss: 0.3135 - accuracy: 0.8694 - val_loss: 0.3966 - val_accuracy: 0.8340\n",
      "Epoch 7/15\n",
      "1828/1828 [==============================] - 16s 9ms/step - loss: 0.3076 - accuracy: 0.8723 - val_loss: 0.3504 - val_accuracy: 0.8480\n",
      "Epoch 8/15\n",
      "1828/1828 [==============================] - 16s 9ms/step - loss: 0.3003 - accuracy: 0.8759 - val_loss: 0.3555 - val_accuracy: 0.8503\n",
      "Epoch 9/15\n",
      "1828/1828 [==============================] - 16s 9ms/step - loss: 0.2948 - accuracy: 0.8794 - val_loss: 0.3552 - val_accuracy: 0.8486\n",
      "Epoch 10/15\n",
      "1828/1828 [==============================] - 16s 9ms/step - loss: 0.2888 - accuracy: 0.8821 - val_loss: 0.3617 - val_accuracy: 0.8430\n",
      "Epoch 11/15\n",
      "1828/1828 [==============================] - 16s 9ms/step - loss: 0.2828 - accuracy: 0.8849 - val_loss: 0.3636 - val_accuracy: 0.8414\n",
      "Epoch 12/15\n",
      "1828/1828 [==============================] - 16s 9ms/step - loss: 0.2772 - accuracy: 0.8889 - val_loss: 0.3700 - val_accuracy: 0.8413\n",
      "Epoch 13/15\n",
      "1828/1828 [==============================] - 16s 9ms/step - loss: 0.2713 - accuracy: 0.8913 - val_loss: 0.3788 - val_accuracy: 0.8436\n",
      "Epoch 14/15\n",
      "1828/1828 [==============================] - 16s 9ms/step - loss: 0.2666 - accuracy: 0.8931 - val_loss: 0.3639 - val_accuracy: 0.8437\n",
      "Epoch 15/15\n",
      "1828/1828 [==============================] - 16s 9ms/step - loss: 0.2610 - accuracy: 0.8967 - val_loss: 0.3840 - val_accuracy: 0.8410\n",
      "1537/1537 [==============================] - 5s 3ms/step - loss: 0.3911 - accuracy: 0.8377\n",
      "테스트 손실: 0.3910968601703644\n",
      "테스트 정확도: 0.8377443552017212\n"
     ]
    }
   ],
   "source": [
    "import tensorflow as tf\n",
    "from tensorflow.keras.layers import Input, Embedding, Dense, Dropout, LayerNormalization, MultiHeadAttention\n",
    "from tensorflow.keras.models import Model\n",
    "\n",
    "# Transformer Block 정의\n",
    "class TransformerBlock(tf.keras.layers.Layer):\n",
    "    def __init__(self, embed_dim, num_heads, ff_dim, rate=0.1):\n",
    "        super(TransformerBlock, self).__init__()\n",
    "        self.att = MultiHeadAttention(num_heads=num_heads, key_dim=embed_dim)\n",
    "        self.ffn = tf.keras.Sequential([\n",
    "            Dense(ff_dim, activation=\"relu\"),\n",
    "            Dense(embed_dim)\n",
    "        ])\n",
    "        self.layernorm1 = LayerNormalization(epsilon=1e-5)\n",
    "        self.layernorm2 = LayerNormalization(epsilon=1e-5)\n",
    "        self.dropout1 = Dropout(rate)\n",
    "        self.dropout2 = Dropout(rate)\n",
    "\n",
    "    def call(self, inputs, training):\n",
    "        attn_output = self.att(inputs, inputs)\n",
    "        attn_output = self.dropout1(attn_output, training=training)\n",
    "        out1 = self.layernorm1(inputs + attn_output)\n",
    "        ffn_output = self.ffn(out1)\n",
    "        ffn_output = self.dropout2(ffn_output, training=training)\n",
    "        return self.layernorm2(out1 + ffn_output)\n",
    "\n",
    "# 모델 정의\n",
    "def create_transformer_model(vocab_size, maxlen, embed_dim, num_heads, ff_dim, rate=0.1):\n",
    "    inputs = Input(shape=(maxlen,))\n",
    "    embedding_layer = Embedding(input_dim=vocab_size, output_dim=embed_dim)(inputs)\n",
    "    x = TransformerBlock(embed_dim, num_heads, ff_dim, rate)(embedding_layer)\n",
    "    x = tf.keras.layers.GlobalAveragePooling1D()(x)\n",
    "    x = Dropout(rate)(x)\n",
    "    x = Dense(256, activation=\"tanh\")(x)\n",
    "    outputs = Dense(1, activation=\"sigmoid\")(x)\n",
    "    model = Model(inputs=inputs, outputs=outputs)\n",
    "    return model\n",
    "\n",
    "# 하이퍼파라미터\n",
    "vocab_size = 10000   # 어휘 크기\n",
    "maxlen = 41         # 시퀀스 길이\n",
    "embed_dim = 128      # 임베딩 차원\n",
    "num_heads = 4        # Multi-head Attention의 헤드 수\n",
    "ff_dim = 256         # Position-wise Feedforward Network의 크기\n",
    "dropout_rate = 0.1   # 드롭아웃 비율\n",
    "epochs = 15          # 학습 에포크 수\n",
    "batch_size = 64      # 배치 크기\n",
    "\n",
    "# Transformer 모델 생성\n",
    "model = create_transformer_model(vocab_size, maxlen, embed_dim, num_heads, ff_dim, dropout_rate)\n",
    "\n",
    "# 모델 컴파일\n",
    "model.compile(optimizer=\"rmsprop\", loss=\"binary_crossentropy\", metrics=[\"accuracy\"])\n",
    "model.summary()\n",
    "\n",
    "# 데이터 준비 (X_train_final, X_val, y_train_final, y_val은 이미 전처리된 데이터)\n",
    "# 패딩된 데이터 형태: (num_samples, maxlen)\n",
    "\n",
    "# 모델 학습\n",
    "history = model.fit(\n",
    "    X_train_final, y_train_final,\n",
    "    validation_data=(X_val, y_val),\n",
    "    epochs=epochs,\n",
    "    batch_size=batch_size\n",
    ")\n",
    "\n",
    "# 모델 평가\n",
    "test_loss, test_accuracy = model.evaluate(X_test_padded, y_test)\n",
    "print(f\"테스트 손실: {test_loss}\")\n",
    "print(f\"테스트 정확도: {test_accuracy}\")"
   ]
  },
  {
   "cell_type": "markdown",
   "id": "2e63267a",
   "metadata": {},
   "source": [
    "## Loss, Accuracy 그래프 시각화"
   ]
  },
  {
   "cell_type": "code",
   "execution_count": 19,
   "id": "24650de7",
   "metadata": {},
   "outputs": [
    {
     "name": "stdout",
     "output_type": "stream",
     "text": [
      "Model 1 : LSTM (8)\n"
     ]
    },
    {
     "data": {
      "image/png": "[encoded data removed]",
      "text/plain": [
       "<Figure size 864x360 with 2 Axes>"
      ]
     },
     "metadata": {
      "needs_background": "light"
     },
     "output_type": "display_data"
    },
    {
     "name": "stdout",
     "output_type": "stream",
     "text": [
      "Model 2 : LSTM+Dropout\n"
     ]
    },
    {
     "data": {
      "image/png": "[encoded data removed]",
      "text/plain": [
       "<Figure size 864x360 with 2 Axes>"
      ]
     },
     "metadata": {
      "needs_background": "light"
     },
     "output_type": "display_data"
    },
    {
     "name": "stdout",
     "output_type": "stream",
     "text": [
      "Model 3 : Transformer\n"
     ]
    },
    {
     "data": {
      "image/png": "[encoded data removed]",
      "text/plain": [
       "<Figure size 864x360 with 2 Axes>"
      ]
     },
     "metadata": {
      "needs_background": "light"
     },
     "output_type": "display_data"
    }
   ],
   "source": [
    "import matplotlib.pyplot as plt\n",
    "\n",
    "def plot_loss_and_accuracy(history):\n",
    "    \"\"\"\n",
    "    훈련 및 검증 손실/정확도를 시각화하는 함수\n",
    "    Args:\n",
    "    - history: keras.callbacks.History 객체, 모델 학습 기록\n",
    "\n",
    "    Returns:\n",
    "    - None (그래프 출력)\n",
    "    \"\"\"\n",
    "    # 손실과 정확도 데이터 가져오기\n",
    "    loss = history.history['loss']\n",
    "    val_loss = history.history['val_loss']\n",
    "    acc = history.history['accuracy']\n",
    "    val_acc = history.history['val_accuracy']\n",
    "\n",
    "    # 에포크 설정\n",
    "    epochs = range(1, len(loss) + 1)\n",
    "\n",
    "    # 손실 그래프\n",
    "    plt.figure(figsize=(12, 5))\n",
    "\n",
    "    plt.subplot(1, 2, 1)  # 첫 번째 그래프\n",
    "    plt.plot(epochs, loss, 'bo', label='Training Loss')  # 파란 점: 훈련 손실\n",
    "    plt.plot(epochs, val_loss, 'b', label='Validation Loss')  # 파란 실선: 검증 손실\n",
    "    plt.title('Training and Validation Loss')\n",
    "    plt.xlabel('Epochs')\n",
    "    plt.ylabel('Loss')\n",
    "    plt.legend()\n",
    "    plt.grid(True)\n",
    "\n",
    "    # 정확도 그래프\n",
    "    plt.subplot(1, 2, 2)  # 두 번째 그래프\n",
    "    plt.plot(epochs, acc, 'ro', label='Training Accuracy')  # 빨간 점: 훈련 정확도\n",
    "    plt.plot(epochs, val_acc, 'r', label='Validation Accuracy')  # 빨간 실선: 검증 정확도\n",
    "    plt.title('Training and Validation Accuracy')\n",
    "    plt.xlabel('Epochs')\n",
    "    plt.ylabel('Accuracy')\n",
    "    plt.legend()\n",
    "    plt.grid(True)\n",
    "\n",
    "    # 그래프 표시\n",
    "    plt.tight_layout()\n",
    "    plt.show()\n",
    "    \n",
    "print(\"Model 1 : LSTM (8)\")\n",
    "plot_loss_and_accuracy(history1)\n",
    "print(\"Model 2 : LSTM+Dropout\")\n",
    "plot_loss_and_accuracy(history2)\n",
    "print(\"Model 3 : Transformer\")\n",
    "plot_loss_and_accuracy(history)"
   ]
  },
  {
   "cell_type": "markdown",
   "id": "5cd0ada8",
   "metadata": {},
   "source": [
    "## 학습된 Embedding 레이어 분석"
   ]
  },
  {
   "cell_type": "code",
   "execution_count": 20,
   "id": "a86d7ea6",
   "metadata": {},
   "outputs": [
    {
     "name": "stdout",
     "output_type": "stream",
     "text": [
      "1.3.3\n",
      "0.5.2\n",
      "4.1.2\n",
      "(10000, 256)\n"
     ]
    }
   ],
   "source": [
    "import pandas\n",
    "import konlpy\n",
    "import gensim\n",
    "import os\n",
    "import tensorflow as tf\n",
    "\n",
    "print(pandas.__version__)\n",
    "print(konlpy.__version__)\n",
    "print(gensim.__version__)\n",
    "\n",
    "\n",
    "embedding_layer = model2.layers[0]\n",
    "weights = embedding_layer.get_weights()[0]\n",
    "print(weights.shape)    # shape: (vocab_size, embedding_dim)\n",
    "word_vector_dim = weights.shape[1]"
   ]
  },
  {
   "cell_type": "code",
   "execution_count": 21,
   "id": "66a78689",
   "metadata": {},
   "outputs": [
    {
     "name": "stdout",
     "output_type": "stream",
     "text": [
      "Word2Vec 파일 저장 완료: /aiffel/aiffel/sentiment_classification/data/word2vec1.txt\n",
      "[ 0.18270741 -0.05042277 -0.16378696 -0.05027144  0.1016456  -0.26484928\n",
      "  0.04028901 -0.00670538 -0.25154403 -0.14458403  0.06098228 -0.1995467\n",
      " -0.10068008  0.1588901   0.14837193 -0.14428744  0.00130513  0.18851829\n",
      " -0.102874   -0.14093152  0.08610336  0.0996649   0.04776252  0.00074158\n",
      " -0.01761888  0.13764107 -0.203997    0.14690118  0.05341906 -0.22238626\n",
      " -0.03104116 -0.04680994 -0.06479747 -0.10990979  0.09830487 -0.05385317\n",
      "  0.14719574  0.25383252 -0.11908299 -0.3223331   0.05185928 -0.03476659\n",
      "  0.34948313  0.14445221  0.08702252 -0.04209452  0.11634126 -0.04174456\n",
      "  0.06099734 -0.19888985  0.0542697  -0.2990698   0.00730269  0.00718809\n",
      "  0.12724043 -0.23777618 -0.10627098  0.05487972 -0.09300759  0.01656817\n",
      " -0.18497846  0.21065074  0.14279719  0.04463235  0.07143486  0.12616481\n",
      "  0.04554704 -0.10840514 -0.08496054  0.14359482  0.04684767 -0.20359573\n",
      " -0.30930758 -0.41771212 -0.1242585   0.04701729  0.03082788  0.1699577\n",
      "  0.06202349 -0.22791831 -0.14516473 -0.02845658 -0.11768003 -0.01209229\n",
      " -0.04690952  0.06664255  0.086371    0.13113134 -0.09297622 -0.04140546\n",
      " -0.01348501  0.20669802  0.18011266 -0.06379666 -0.08684984  0.2125446\n",
      "  0.17037919  0.15366709  0.03905154 -0.04012778  0.03780786 -0.01406918\n",
      "  0.06425282  0.22579327 -0.11819693  0.14911994 -0.16123658  0.16914327\n",
      "  0.00387147 -0.1440386  -0.21783987  0.03213418  0.10202839 -0.11206775\n",
      "  0.33199066 -0.24943207 -0.0036279  -0.27857584  0.07769991 -0.24219178\n",
      " -0.05661067  0.0365495  -0.10340888  0.15331466  0.08305681  0.04480569\n",
      "  0.01848443  0.37234184  0.08600806  0.13118258 -0.12957995 -0.00062355\n",
      "  0.1606632   0.18869162 -0.35602474  0.30037013  0.1573183   0.02269549\n",
      " -0.4689568  -0.17683388 -0.17400466 -0.09515272 -0.04161122  0.03168357\n",
      " -0.00978354  0.06357542 -0.14129487  0.00229072 -0.12179194 -0.00263855\n",
      "  0.0488729   0.03531287  0.32385072  0.11432053  0.15057233  0.00908273\n",
      "  0.0212107   0.18186599  0.08045956 -0.07873821 -0.10974995  0.06198452\n",
      " -0.29928288 -0.18792662 -0.01316206  0.19100766  0.0574408   0.02976253\n",
      "  0.10607743  0.07913052 -0.11272481 -0.24172045 -0.08597024 -0.08702747\n",
      " -0.07563276  0.05587443 -0.31026804  0.04408864  0.28517613 -0.02739003\n",
      "  0.10179299  0.05943787 -0.04569104 -0.00482788  0.06391904 -0.07473689\n",
      "  0.09940669 -0.20587027 -0.23165977  0.14021353  0.09015162 -0.05293426\n",
      " -0.3243914  -0.00449805  0.11359992 -0.13926744  0.010361   -0.20644017\n",
      " -0.23489295  0.04141134 -0.25355822  0.31904128  0.15644702 -0.09135421\n",
      "  0.09074708 -0.14636414  0.14407904 -0.06102551  0.07942717 -0.16285141\n",
      " -0.19753072  0.18839388  0.12352126  0.0372392   0.02692101  0.04199883\n",
      "  0.10095191  0.02945288  0.10700425 -0.32073328 -0.11636335  0.10583205\n",
      "  0.18357551  0.18170196  0.00068205 -0.12128135 -0.10155202 -0.0756854\n",
      "  0.00073455 -0.00380988 -0.15152381 -0.0509029  -0.00457323 -0.17915553\n",
      " -0.2586453  -0.06379303  0.1758187   0.08540628  0.08824603  0.01987746\n",
      "  0.04250867  0.03706409 -0.17727503 -0.38946098 -0.06580178 -0.03082687\n",
      "  0.10798524  0.21192724  0.08956311 -0.13405111 -0.03157193  0.10972678\n",
      " -0.07934344 -0.10949782  0.29152465  0.03348425]\n"
     ]
    }
   ],
   "source": [
    "index_to_word = {index: word for word, index in word_to_index.items()}\n",
    "\n",
    "# Word2Vec 형식으로 저장\n",
    "word2vec_file_path = os.getenv('HOME') + '/aiffel/sentiment_classification/data/word2vec1.txt'\n",
    "with open(word2vec_file_path, 'w') as f:\n",
    "    f.write(f'{vocab_size-4} {word_vector_dim}\\n')  # 벡터 차원 동적으로 설정\n",
    "\n",
    "    for i in range(4, vocab_size):  # 특수 토큰 제외\n",
    "        f.write(f'{index_to_word[i]} {\" \".join(map(str, weights[i]))}\\n')\n",
    "\n",
    "print(f\"Word2Vec 파일 저장 완료: {word2vec_file_path}\")\n",
    "\n",
    "# Word2Vec 파일 로드 및 테스트\n",
    "from gensim.models.keyedvectors import Word2VecKeyedVectors\n",
    "\n",
    "word_vectors = Word2VecKeyedVectors.load_word2vec_format(word2vec_file_path, binary=False)\n",
    "vector = word_vectors['노래']\n",
    "print(vector)"
   ]
  },
  {
   "cell_type": "code",
   "execution_count": 35,
   "id": "2dd7b31d",
   "metadata": {},
   "outputs": [
    {
     "name": "stdout",
     "output_type": "stream",
     "text": [
      "Epoch 1/15\n",
      "1828/1828 [==============================] - 16s 8ms/step - loss: 0.4624 - accuracy: 0.7683 - val_loss: 0.3463 - val_accuracy: 0.8473\n",
      "Epoch 2/15\n",
      "1828/1828 [==============================] - 14s 8ms/step - loss: 0.3429 - accuracy: 0.8594 - val_loss: 0.3530 - val_accuracy: 0.8456\n",
      "Epoch 3/15\n",
      "1828/1828 [==============================] - 14s 8ms/step - loss: 0.3080 - accuracy: 0.8741 - val_loss: 0.3207 - val_accuracy: 0.8593\n",
      "Epoch 4/15\n",
      "1828/1828 [==============================] - 14s 8ms/step - loss: 0.2843 - accuracy: 0.8852 - val_loss: 0.3185 - val_accuracy: 0.8652\n",
      "Epoch 5/15\n",
      "1828/1828 [==============================] - 14s 8ms/step - loss: 0.2674 - accuracy: 0.8923 - val_loss: 0.3301 - val_accuracy: 0.8679\n",
      "Epoch 6/15\n",
      "1828/1828 [==============================] - 14s 8ms/step - loss: 0.2508 - accuracy: 0.8999 - val_loss: 0.3405 - val_accuracy: 0.8686\n",
      "Epoch 7/15\n",
      "1828/1828 [==============================] - 14s 8ms/step - loss: 0.2385 - accuracy: 0.9045 - val_loss: 0.3403 - val_accuracy: 0.8649\n",
      "Epoch 8/15\n",
      "1828/1828 [==============================] - 14s 8ms/step - loss: 0.2255 - accuracy: 0.9099 - val_loss: 0.3422 - val_accuracy: 0.8655\n",
      "Epoch 9/15\n",
      "1828/1828 [==============================] - 14s 8ms/step - loss: 0.2156 - accuracy: 0.9144 - val_loss: 0.3617 - val_accuracy: 0.8674\n",
      "Epoch 10/15\n",
      "1828/1828 [==============================] - 14s 8ms/step - loss: 0.2052 - accuracy: 0.9186 - val_loss: 0.3819 - val_accuracy: 0.8663\n",
      "Epoch 11/15\n",
      "1828/1828 [==============================] - 14s 8ms/step - loss: 0.1973 - accuracy: 0.9213 - val_loss: 0.3789 - val_accuracy: 0.8651\n",
      "Epoch 12/15\n",
      "1828/1828 [==============================] - 14s 8ms/step - loss: 0.1898 - accuracy: 0.9251 - val_loss: 0.3979 - val_accuracy: 0.8665\n",
      "Epoch 13/15\n",
      "1828/1828 [==============================] - 14s 8ms/step - loss: 0.1838 - accuracy: 0.9272 - val_loss: 0.3954 - val_accuracy: 0.8653\n",
      "Epoch 14/15\n",
      "1828/1828 [==============================] - 14s 8ms/step - loss: 0.1764 - accuracy: 0.9307 - val_loss: 0.4251 - val_accuracy: 0.8633\n",
      "Epoch 15/15\n",
      "1828/1828 [==============================] - 14s 8ms/step - loss: 0.1737 - accuracy: 0.9317 - val_loss: 0.4699 - val_accuracy: 0.8602\n",
      "1537/1537 [==============================] - 4s 3ms/step - loss: 0.4710 - accuracy: 0.8602\n",
      "테스트 손실: 0.47104066610336304\n",
      "테스트 정확도: 0.8601827025413513\n"
     ]
    }
   ],
   "source": [
    "vocab_size = 10000    # 어휘 사전의 크기입니다(10,000개의 단어)\n",
    "word_vector_dim = 256  # 워드 벡터의 차원수\n",
    "embedding_matrix = np.random.rand(vocab_size, word_vector_dim)\n",
    "\n",
    "# embedding_matrix에 Word2Vec 워드 벡터를 단어 하나씩마다 차례차례 카피한다.\n",
    "for i in range(4,vocab_size):\n",
    "    if index_to_word[i] in word_vectors:\n",
    "        embedding_matrix[i] = word_vectors[index_to_word[i]]\n",
    "        \n",
    "from tensorflow.keras.initializers import Constant\n",
    "\n",
    "\n",
    "# 모델 구성\n",
    "model2 = tf.keras.Sequential()\n",
    "model.add(tf.keras.layers.Embedding(vocab_size, \n",
    "                                 word_vector_dim, \n",
    "                                 embeddings_initializer=Constant(embedding_matrix),  # 카피한 임베딩을 여기서 활용\n",
    "                                 input_length=maxlen, \n",
    "                                 trainable=True)) \n",
    "# Add an embedding layer and a dropout\n",
    "model2.add(tf.keras.layers.Embedding(input_dim=10000, output_dim=256))\n",
    "model2.add(tf.keras.layers.Dropout(0.7))\n",
    "\n",
    "#Add a LSTM layer with dropout\n",
    "model2.add(tf.keras.layers.LSTM(256))\n",
    "model2.add(tf.keras.layers.Dropout(0.7))  # dropout for LSTM Layer\n",
    "\n",
    "# Add a Dense layer with dropout\n",
    "model2.add(tf.keras.layers.Dense(128, activation=\"relu\"))\n",
    "model2.add(tf.keras.layers.Dropout(0.7))\n",
    "\n",
    "# Add the output layer\n",
    "# In output layer number of nodes=number of classes => Since we are doing binary classification, there will be 1 node\n",
    "# The output will be 0 or 1 with sigmoid\n",
    "model2.add(tf.keras.layers.Dense(1, activation=\"sigmoid\"))\n",
    "\n",
    "model2.compile(optimizer=\"adam\", loss=\"binary_crossentropy\", metrics=[\"accuracy\"])\n",
    "\n",
    "# 모델 학습\n",
    "history21 = model2.fit(\n",
    "    X_train_final, y_train_final,\n",
    "    epochs=epochs,\n",
    "    batch_size=batch_size,\n",
    "    validation_data=(X_val, y_val)\n",
    ")\n",
    "\n",
    "# 모델 평가\n",
    "test_loss, test_accuracy = model2.evaluate(X_test_padded, y_test)\n",
    "print(f\"테스트 손실: {test_loss}\")\n",
    "print(f\"테스트 정확도: {test_accuracy}\")"
   ]
  },
  {
   "cell_type": "markdown",
   "id": "8558d0e7",
   "metadata": {},
   "source": [
    "자체학습 모델과 사전학습 모델의 비교"
   ]
  },
  {
   "cell_type": "code",
   "execution_count": 33,
   "id": "aea9faa0",
   "metadata": {},
   "outputs": [
    {
     "name": "stdout",
     "output_type": "stream",
     "text": [
      "Model 2 : LSTM+Dropout\n"
     ]
    },
    {
     "data": {
      "image/png": "[encoded data removed]",
      "text/plain": [
       "<Figure size 864x360 with 2 Axes>"
      ]
     },
     "metadata": {
      "needs_background": "light"
     },
     "output_type": "display_data"
    },
    {
     "name": "stdout",
     "output_type": "stream",
     "text": [
      "Model 2 : LSTM+Dropout+Word2Vec\n"
     ]
    },
    {
     "data": {
      "image/png": "[encoded data removed]",
      "text/plain": [
       "<Figure size 864x360 with 2 Axes>"
      ]
     },
     "metadata": {
      "needs_background": "light"
     },
     "output_type": "display_data"
    }
   ],
   "source": [
    "print(\"Model 2 : LSTM+Dropout\")\n",
    "plot_loss_and_accuracy(history2)\n",
    "print(\"Model 2 : LSTM+Dropout+Word2Vec\")\n",
    "plot_loss_and_accuracy(history21)"
   ]
  },
  {
   "cell_type": "markdown",
   "id": "14eb16bd",
   "metadata": {},
   "source": [
    "성능이 향상되지는 않음. 거의 비슷합."
   ]
  },
  {
   "cell_type": "markdown",
   "id": "683710d5",
   "metadata": {},
   "source": [
    "## 한국어 Word2Vec 임베딩 활용하여 성능 개선"
   ]
  },
  {
   "cell_type": "code",
   "execution_count": null,
   "id": "4e3a7715",
   "metadata": {
    "scrolled": true
   },
   "outputs": [],
   "source": [
    "import numpy as np\n",
    "import tensorflow as tf\n",
    "from gensim.models.keyedvectors import KeyedVectors\n",
    "\n",
    "# 사전 학습된 한국어 Word2Vec 파일 로드\n",
    "word2vec_path =  os.getenv('HOME')+'/aiffel/sentiment_classification/data/GoogleNews-vectors-negative300.bin.gz'\n",
    "word_vectors = KeyedVectors.load_word2vec_format(word2vec_path, binary=True)\n",
    "\n",
    "# Word2Vec 모델의 벡터 차원 확인\n",
    "word_vector_dim = word_vectors.vector_size\n",
    "print(f\"Word2Vec 벡터 차원: {word_vector_dim}\")\n",
    "\n",
    "# Vocabulary 및 임베딩 매트릭스 생성\n",
    "vocab_size = 10000  # 어휘 사전의 크기 (임의로 10,000개로 설정)\n",
    "embedding_matrix = np.zeros((vocab_size, word_vector_dim))  # 0으로 초기화된 임베딩 매트릭스\n",
    "\n",
    "# Word2Vec의 단어와 인덱스를 매핑하는 사전 생성\n",
    "word_to_index = {word: i for i, word in enumerate(word_vectors.index_to_key[:vocab_size])}\n",
    "index_to_word = {i: word for word, i in word_to_index.items()}\n",
    "\n",
    "# Word2Vec 임베딩 값을 매트릭스에 복사\n",
    "for word, i in word_to_index.items():\n",
    "    if word in word_vectors:\n",
    "        embedding_matrix[i] = word_vectors[word]\n",
    "\n",
    "print(f\"임베딩 매트릭스 생성 완료. Shape: {embedding_matrix.shape}\")\n",
    "\n",
    "# TensorFlow 임베딩 레이어에 사전 학습된 벡터 적용\n",
    "embedding_layer = tf.keras.layers.Embedding(\n",
    "    input_dim=vocab_size,\n",
    "    output_dim=word_vector_dim,\n",
    "    embeddings_initializer=tf.keras.initializers.Constant(embedding_matrix),\n",
    "    input_length=maxlen,\n",
    "    trainable=False)  # 사전 학습된 벡터를 고정\n",
    "\n",
    "model2 = tf.keras.Sequential()\n",
    "model.add(tf.keras.layers.Embedding(vocab_size, \n",
    "                                 word_vector_dim, \n",
    "                                 embeddings_initializer=Constant(embedding_matrix),  # 카피한 임베딩을 여기서 활용\n",
    "                                 input_length=maxlen, \n",
    "                                 trainable=True)) \n",
    "# Add an embedding layer and a dropout\n",
    "model2.add(tf.keras.layers.Embedding(input_dim=10000, output_dim=256))\n",
    "model2.add(tf.keras.layers.Dropout(0.7))\n",
    "\n",
    "#Add a LSTM layer with dropout\n",
    "model2.add(tf.keras.layers.LSTM(256))\n",
    "model2.add(tf.keras.layers.Dropout(0.7))  # dropout for LSTM Layer\n",
    "\n",
    "# Add a Dense layer with dropout\n",
    "model2.add(tf.keras.layers.Dense(128, activation=\"relu\"))\n",
    "model2.add(tf.keras.layers.Dropout(0.7))\n",
    "\n",
    "# Add the output layer\n",
    "# In output layer number of nodes=number of classes => Since we are doing binary classification, there will be 1 node\n",
    "# The output will be 0 or 1 with sigmoid\n",
    "model2.add(tf.keras.layers.Dense(1, activation=\"sigmoid\"))\n",
    "\n",
    "model2.compile(optimizer=\"adam\", loss=\"binary_crossentropy\", metrics=[\"accuracy\"])\n",
    "\n",
    "# 모델 학습\n",
    "history2 = model2.fit(\n",
    "    X_train_final, y_train_final,\n",
    "    epochs=epochs,\n",
    "    batch_size=batch_size,\n",
    "    validation_data=(X_val, y_val)\n",
    ")\n",
    "\n",
    "# 모델 평가\n",
    "test_loss, test_accuracy = model2.evaluate(X_test_padded, y_test)\n",
    "print(f\"테스트 손실: {test_loss}\")\n",
    "print(f\"테스트 정확도: {test_accuracy}\")"
   ]
  },
  {
   "cell_type": "code",
   "execution_count": null,
   "id": "a37b6e7e",
   "metadata": {},
   "outputs": [],
   "source": [
    "import numpy as np\n",
    "import tensorflow as tf\n",
    "from gensim.models.keyedvectors import KeyedVectors\n",
    "\n",
    "# 사전 학습된 한국어 Word2Vec 파일 로드\n",
    "word2vec_path =  os.getenv('HOME')+'/aiffel/sentiment_classification/data/GoogleNews-vectors-negative300.bin.gz'\n",
    "word_vectors = KeyedVectors.load_word2vec_format(word2vec_path, binary=True)\n",
    "\n",
    "# Word2Vec 모델의 벡터 차원 확인\n",
    "word_vector_dim = word_vectors.vector_size\n",
    "print(f\"Word2Vec 벡터 차원: {word_vector_dim}\")\n",
    "\n",
    "# Vocabulary 및 임베딩 매트릭스 생성\n",
    "vocab_size = 10000  # 어휘 사전의 크기 (임의로 10,000개로 설정)\n",
    "embedding_matrix = np.zeros((vocab_size, word_vector_dim))  # 0으로 초기화된 임베딩 매트릭스\n",
    "\n",
    "# Word2Vec의 단어와 인덱스를 매핑하는 사전 생성\n",
    "word_to_index = {word: i for i, word in enumerate(word_vectors.index_to_key[:vocab_size])}\n",
    "index_to_word = {i: word for word, i in word_to_index.items()}\n",
    "\n",
    "# Word2Vec 임베딩 값을 매트릭스에 복사\n",
    "for word, i in word_to_index.items():\n",
    "    if word in word_vectors:\n",
    "        embedding_matrix[i] = word_vectors[word]\n",
    "\n",
    "print(f\"임베딩 매트릭스 생성 완료. Shape: {embedding_matrix.shape}\")\n",
    "\n",
    "# TensorFlow 임베딩 레이어에 사전 학습된 벡터 적용\n",
    "embedding_layer = tf.keras.layers.Embedding(\n",
    "    input_dim=vocab_size,\n",
    "    output_dim=word_vector_dim,\n",
    "    embeddings_initializer=tf.keras.initializers.Constant(embedding_matrix),\n",
    "    input_length=maxlen,\n",
    "    trainable=False  # 사전 학습된 벡터를 고정\n",
    ")\n",
    "\n",
    "# 모델 구성\n",
    "model = tf.keras.Sequential([\n",
    "    embedding_layer,\n",
    "    tf.keras.layers.Dropout(0.7),\n",
    "    tf.keras.layers.LSTM(256),\n",
    "    tf.keras.layers.Dropout(0.7),\n",
    "    tf.keras.layers.Dense(128, activation=\"relu\"),\n",
    "    tf.keras.layers.Dropout(0.7),\n",
    "    tf.keras.layers.Dense(1, activation=\"sigmoid\")\n",
    "])\n",
    "\n",
    "# 모델 컴파일\n",
    "model.compile(optimizer=\"adam\", loss=\"binary_crossentropy\", metrics=[\"accuracy\"])\n",
    "\n",
    "# 모델 학습\n",
    "history = model.fit(\n",
    "    X_train_final, y_train_final,\n",
    "    epochs=epochs,\n",
    "    batch_size=batch_size,\n",
    "    validation_data=(X_val, y_val)\n",
    ")\n",
    "\n",
    "# 모델 평가\n",
    "test_loss, test_accuracy = model.evaluate(X_test_padded, y_test)\n",
    "print(f\"테스트 손실: {test_loss}\")\n",
    "print(f\"테스트 정확도: {test_accuracy}\")\n"
   ]
  },
  {
   "cell_type": "markdown",
   "id": "eb74c1dc",
   "metadata": {},
   "source": [
    "## 회고\n",
    "\n",
    "\n",
    "cloud jupyter를 사용중인데 이정도로 코드가 길어지면 자꾸 커널이 죽어서 더이상의 실습이 진행되지 않는다. 다시 진행해야 할 것 같다.\n",
    "스킬이 아직 부족해 여러가지 찾아 보다 결국 용석님 코드를 가장 참고해서 작성했다. \n",
    "사전학습 없이 87% 이상의 성능을 내는 모델을 짜 보려고 캐글에서 찾은Transformer BERT을 적용해보았으나 3시간 이상 걸리고 3에포크에도 개선이 되는 모습이 보이지 않았다.\n",
    "BERT가 아닌 트랜스포머 모델을 케라스에서 찾아서 넣어 만들었다. \n",
    "열심히 해보려고 밤을 샜는데 생각한 것 만큼 결과가 좋진 않은것 같다\n",
    "오늘도 화이팅!\n"
   ]
  },
  {
   "cell_type": "code",
   "execution_count": null,
   "id": "f681e37c",
   "metadata": {},
   "outputs": [],
   "source": []
  }
 ],
 "metadata": {
  "kernelspec": {
   "display_name": "Python 3 (ipykernel)",
   "language": "python",
   "name": "python3"
  },
  "language_info": {
   "codemirror_mode": {
    "name": "ipython",
    "version": 3
   },
   "file_extension": ".py",
   "mimetype": "text/x-python",
   "name": "python",
   "nbconvert_exporter": "python",
   "pygments_lexer": "ipython3",
   "version": "3.9.7"
  }
 },
 "nbformat": 4,
 "nbformat_minor": 5
}
