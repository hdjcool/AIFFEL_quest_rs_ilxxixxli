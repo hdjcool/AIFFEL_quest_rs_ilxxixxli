{
  "cells": [
    {
      "cell_type": "code",
      "execution_count": 1,
      "metadata": {
        "id": "2QXixVSvesM5"
      },
      "outputs": [],
      "source": [
        "import os\n",
        "import re\n",
        "import numpy as np\n",
        "import pandas as pd\n",
        "import tensorflow as tf\n",
        "import matplotlib.pyplot as plt\n",
        "import tensorflow_datasets as tfds\n",
        "from tensorflow.keras.callbacks import EarlyStopping"
      ]
    },
    {
      "cell_type": "markdown",
      "metadata": {
        "id": "9m4WEK9Ae66f"
      },
      "source": [
        "### 1. 데이터 불러오기"
      ]
    },
    {
      "cell_type": "code",
      "source": [
        "file_path = \"/content/sample_data/ChatbotData.csv\""
      ],
      "metadata": {
        "id": "b1xZQHohmJ0O"
      },
      "execution_count": 63,
      "outputs": []
    },
    {
      "cell_type": "code",
      "source": [
        "data = pd.read_csv(file_path)#데이터 로드\n",
        "data = data[['Q', 'A']]\n",
        "data = data.dropna()\n",
        "print(data.head())"
      ],
      "metadata": {
        "colab": {
          "base_uri": "https://localhost:8080/"
        },
        "id": "kuCCv6RbmBSr",
        "outputId": "5d51b143-84a0-400b-a44d-16fac86fb77d"
      },
      "execution_count": 64,
      "outputs": [
        {
          "output_type": "stream",
          "name": "stdout",
          "text": [
            "                 Q            A\n",
            "0           12시 땡!   하루가 또 가네요.\n",
            "1      1지망 학교 떨어졌어    위로해 드립니다.\n",
            "2     3박4일 놀러가고 싶다  여행은 언제나 좋죠.\n",
            "3  3박4일 정도 놀러가고 싶다  여행은 언제나 좋죠.\n",
            "4          PPL 심하네   눈살이 찌푸려지죠.\n"
          ]
        }
      ]
    },
    {
      "cell_type": "code",
      "source": [
        "data.isna().sum()\n",
        "\n",
        "print(\"총 데이터 수 :\", len(data))\n",
        "data_list = data.values.tolist()\n",
        "print(data_list[:5])"
      ],
      "metadata": {
        "colab": {
          "base_uri": "https://localhost:8080/"
        },
        "id": "kIP_3UzrBBvC",
        "outputId": "4a908dbc-e457-4187-b859-0a1e5be19d2a"
      },
      "execution_count": 65,
      "outputs": [
        {
          "output_type": "stream",
          "name": "stdout",
          "text": [
            "총 데이터 수 : 11823\n",
            "[['12시 땡!', '하루가 또 가네요.'], ['1지망 학교 떨어졌어', '위로해 드립니다.'], ['3박4일 놀러가고 싶다', '여행은 언제나 좋죠.'], ['3박4일 정도 놀러가고 싶다', '여행은 언제나 좋죠.'], ['PPL 심하네', '눈살이 찌푸려지죠.']]\n"
          ]
        }
      ]
    },
    {
      "cell_type": "markdown",
      "metadata": {
        "id": "q3kDOCxNe9JG"
      },
      "source": [
        "### 2. 데이터 전처리 하기"
      ]
    },
    {
      "cell_type": "code",
      "execution_count": 66,
      "metadata": {
        "id": "3S7e0QUvj0Ov"
      },
      "outputs": [],
      "source": [
        "#전처리 함수\n",
        "def preprocess_sentence(sentence):\n",
        "  sentence = sentence.lower().strip()\n",
        "\n",
        "  # 단어와 구두점(punctuation) 사이의 거리를 만듭니다.\n",
        "  # 예를 들어서 \"I am a student.\" => \"I am a student .\"와 같이\n",
        "  # student와 온점 사이에 거리를 만듭니다.\n",
        "  sentence = re.sub(r\"([?.!,])\", r\" \\1 \", sentence)\n",
        "  sentence = re.sub(r'[\" \"]+', \" \", sentence)\n",
        "\n",
        "  # (a-z, A-Z, \".\", \"?\", \"!\", \",\")를 제외한 모든 문자를 공백인 ' '로 대체합니다.\n",
        "  sentence = re.sub(r\"[^a-zA-Z?.!,0-9가-힣]+\", \" \", sentence)\n",
        "  sentence = sentence.strip()\n",
        "  return sentence"
      ]
    },
    {
      "cell_type": "code",
      "execution_count": 67,
      "metadata": {
        "colab": {
          "base_uri": "https://localhost:8080/"
        },
        "id": "DdkdhGa-gwGP",
        "outputId": "6cc2fc85-4499-4b9f-c75e-3b49a5b8128c"
      },
      "outputs": [
        {
          "output_type": "stream",
          "name": "stdout",
          "text": [
            "전처리 후의 1000번째 질문 샘플: 노래방 걸 거 같은데 뭐 부르지\n",
            "전처리 후의 1000번째 답변 샘플: 달달한 노래요 .\n"
          ]
        }
      ],
      "source": [
        "questions = data[\"Q\"].apply(preprocess_sentence).tolist()\n",
        "answers = data[\"A\"].apply(preprocess_sentence).tolist()\n",
        "\n",
        "print('전처리 후의 1000번째 질문 샘플: {}'.format(questions[1000]))\n",
        "print('전처리 후의 1000번째 답변 샘플: {}'.format(answers[1000]))"
      ]
    },
    {
      "cell_type": "markdown",
      "source": [
        "### 3. SubwordTextEncoder"
      ],
      "metadata": {
        "id": "XXB--NR_CLQA"
      }
    },
    {
      "cell_type": "code",
      "source": [
        "# 질문과 답변 데이터셋에 대해서 Vocabulary 생성\n",
        "tokenizer = tfds.deprecated.text.SubwordTextEncoder.build_from_corpus(\n",
        "    questions + answers, target_vocab_size=2**13\n",
        ")\n",
        "\n",
        "# 시작 토큰과 종료 토큰에 고유한 정수를 부여합니다.\n",
        "START_TOKEN, END_TOKEN = [tokenizer.vocab_size], [tokenizer.vocab_size + 1]\n",
        "print('vocab size :', [tokenizer.vocab_size])\n",
        "print('START_TOKEN의 번호 :' ,[tokenizer.vocab_size])\n",
        "print('END_TOKEN의 번호 :' ,[tokenizer.vocab_size + 1])\n",
        "\n",
        "# 시작 토큰과 종료 토큰을 고려하여 +2를 하여 단어장의 크기를 산정합니다.\n",
        "VOCAB_SIZE = tokenizer.vocab_size + 2\n",
        "print(VOCAB_SIZE)"
      ],
      "metadata": {
        "colab": {
          "base_uri": "https://localhost:8080/"
        },
        "id": "W8l1fq31CRbz",
        "outputId": "891e32ce-e96b-4fc6-8505-c68ab4e99a00"
      },
      "execution_count": 68,
      "outputs": [
        {
          "output_type": "stream",
          "name": "stdout",
          "text": [
            "vocab size : [8162]\n",
            "START_TOKEN의 번호 : [8162]\n",
            "END_TOKEN의 번호 : [8163]\n",
            "8164\n"
          ]
        }
      ]
    },
    {
      "cell_type": "markdown",
      "source": [
        "### 4. 각 단어를 고유한 정수로 인코딩 하고 패딩하기"
      ],
      "metadata": {
        "id": "9UXVu1HqDISJ"
      }
    },
    {
      "cell_type": "code",
      "source": [
        "# 임의의 1000번째 샘플에 대해서 토큰화 작업을 수행.\n",
        "# 각 토큰을 고유한 정수로 변환\n",
        "print('토큰화 후의 1000번째 질문 샘플: {}'.format(tokenizer.encode(questions[1000])))\n",
        "print('토큰화 후의 1000번째 답변 샘플: {}'.format(tokenizer.encode(answers[1000])))\n",
        "\n",
        "# 샘플의 최대 허용 길이 또는 패딩 후의 최종 길이\n",
        "MAX_LENGTH = 20 ## 15 <- 40"
      ],
      "metadata": {
        "colab": {
          "base_uri": "https://localhost:8080/"
        },
        "id": "jjasjxWTDOui",
        "outputId": "b63c1038-73ff-4c24-a4f9-50139962d233"
      },
      "execution_count": 69,
      "outputs": [
        {
          "output_type": "stream",
          "name": "stdout",
          "text": [
            "토큰화 후의 1000번째 질문 샘플: [2120, 85, 8, 444, 156, 2301, 47]\n",
            "토큰화 후의 1000번째 답변 샘플: [3629, 1346, 17, 1]\n"
          ]
        }
      ]
    },
    {
      "cell_type": "code",
      "source": [
        "# 정수 인코딩, 최대 길이를 초과하는 샘플 제거, 패딩\n",
        "def tokenize_and_filter(inputs, outputs):\n",
        "    tokenized_inputs, tokenized_outputs = [], []\n",
        "\n",
        "    # 정수 인코딩 과정에서 시작 토큰과 종료 토큰을 추가\n",
        "    for (sentence1, sentence2) in zip(inputs, outputs):\n",
        "        sentence1 = START_TOKEN + tokenizer.encode(sentence1) + END_TOKEN\n",
        "        sentence2 = START_TOKEN + tokenizer.encode(sentence2) + END_TOKEN\n",
        "\n",
        "        # 최대 길이 40 이하인 경우에만 데이터셋으로 허용\n",
        "        if len(sentence1) <= MAX_LENGTH and len(sentence2) <= MAX_LENGTH:\n",
        "            tokenized_inputs.append(sentence1)\n",
        "            tokenized_outputs.append(sentence2)\n",
        "\n",
        "    # 최대 길이 40->15으로 모든 데이터셋을 패딩 -> postd와 pre 중 실험 해볼 것\n",
        "    tokenized_inputs = tf.keras.preprocessing.sequence.pad_sequences(\n",
        "        tokenized_inputs, maxlen=MAX_LENGTH, padding='post'\n",
        "    )\n",
        "    tokenized_outputs = tf.keras.preprocessing.sequence.pad_sequences(\n",
        "        tokenized_outputs, maxlen=MAX_LENGTH, padding='post'\n",
        "    )\n",
        "\n",
        "    return tokenized_inputs, tokenized_outputs\n"
      ],
      "metadata": {
        "id": "j6GTFEvGDlfK"
      },
      "execution_count": 70,
      "outputs": []
    },
    {
      "cell_type": "code",
      "execution_count": 71,
      "metadata": {
        "id": "4DpiIjcZlUK_",
        "colab": {
          "base_uri": "https://localhost:8080/"
        },
        "outputId": "a8647849-801c-4fa6-e0a3-9978e5844afd"
      },
      "outputs": [
        {
          "output_type": "stream",
          "name": "stdout",
          "text": [
            "단어장의 크기 : 8164\n",
            "필터링 후의 질문 샘플 개수: 11792\n",
            "필터링 후의 답변 샘플 개수: 11792\n"
          ]
        }
      ],
      "source": [
        "questions, answers = tokenize_and_filter(questions, answers)\n",
        "print('단어장의 크기 :',(VOCAB_SIZE))\n",
        "print('필터링 후의 질문 샘플 개수: {}'.format(len(questions)))\n",
        "print('필터링 후의 답변 샘플 개수: {}'.format(len(answers)))"
      ]
    },
    {
      "cell_type": "markdown",
      "source": [
        "### 5. Teacher Forcing 사용하기"
      ],
      "metadata": {
        "id": "iHJUZG6hEAqZ"
      }
    },
    {
      "cell_type": "code",
      "source": [
        "BATCH_SIZE = 64\n",
        "BUFFER_SIZE = 20000\n",
        "\n",
        "# 디코더는 이전의 target을 다음의 input으로 사용합니다.\n",
        "# 이에 따라 outputs에서는 START_TOKEN을 제거하겠습니다.\n",
        "dataset = tf.data.Dataset.from_tensor_slices((\n",
        "    {\n",
        "        'inputs': questions,\n",
        "        'dec_inputs': answers[:, :-1]\n",
        "    },\n",
        "    {\n",
        "        'outputs': answers[:, 1:]\n",
        "    },\n",
        "))\n",
        "\n",
        "## 데이터가 디스크에서 한 번만 로드되도록 하여 성능을 향상\n",
        "dataset = dataset.cache()\n",
        "\n",
        "## BUFFER_SIZE만큼 데이터를 섞음\n",
        "dataset = dataset.shuffle(BUFFER_SIZE)\n",
        "\n",
        "## BATCH_SIZE만큼의 샘플로 묶음\n",
        "dataset = dataset.batch(BATCH_SIZE)\n",
        "\n",
        "## 모델이 학습을 하는 동안 다음 배치를 미리 준비\n",
        "dataset = dataset.prefetch(tf.data.experimental.AUTOTUNE)"
      ],
      "metadata": {
        "id": "Uoby8IGoEAN7"
      },
      "execution_count": 72,
      "outputs": []
    },
    {
      "cell_type": "markdown",
      "source": [
        "### 6. Model 구성하기"
      ],
      "metadata": {
        "id": "gsXCX_opENyi"
      }
    },
    {
      "cell_type": "markdown",
      "source": [
        "Positional Encoding Layer"
      ],
      "metadata": {
        "id": "zR8qCN6iESF8"
      }
    },
    {
      "cell_type": "code",
      "source": [
        "\n",
        "## 포지셔널 인코딩 레이어\n",
        "class PositionalEncoding(tf.keras.layers.Layer):\n",
        "    def __init__(self, position, d_model):\n",
        "        super(PositionalEncoding, self).__init__()\n",
        "        self.pos_encoding = self.positional_encoding(position, d_model)\n",
        "\n",
        "    def get_angles(self, position, i, d_model):\n",
        "        angles = 1 / tf.pow(10000, (2 * (i // 2)) / tf.cast(d_model, tf.float32))\n",
        "        return position * angles\n",
        "\n",
        "    ## 각도 배열 생성\n",
        "    def positional_encoding(self, position, d_model):\n",
        "        angle_rads = self.get_angles(\n",
        "            position=tf.range(position, dtype=tf.float32)[:, tf.newaxis],\n",
        "            i=tf.range(d_model, dtype=tf.float32)[tf.newaxis, :],\n",
        "            d_model=d_model\n",
        "        )\n",
        "\n",
        "        ## 배열의 짝수 인덱스에는 sin 함수 적용\n",
        "        sines = tf.math.sin(angle_rads[:, 0::2])\n",
        "\n",
        "        ## 배열의 홀수 인덱스에는 cosine 함수 적용\n",
        "        cosines = tf.math.cos(angle_rads[:, 1::2])\n",
        "\n",
        "        ## sin과 cosine이 교차되도록 재배열\n",
        "        pos_encoding = tf.stack([sines, cosines], axis=0)\n",
        "        pos_encoding = tf.transpose(pos_encoding,[1, 2, 0])\n",
        "        pos_encoding = tf.reshape(pos_encoding, [position, d_model])\n",
        "        pos_encoding = pos_encoding[tf.newaxis, ...]\n",
        "\n",
        "        return tf.cast(pos_encoding, tf.float32)\n",
        "\n",
        "    def call(self, inputs):\n",
        "        return inputs + self.pos_encoding[:, :tf.shape(inputs)[1], :]"
      ],
      "metadata": {
        "id": "p4kq2i2uXZRJ"
      },
      "execution_count": 73,
      "outputs": []
    },
    {
      "cell_type": "markdown",
      "source": [
        "Scaled Dot Product Attention"
      ],
      "metadata": {
        "id": "hE53_TBzEYgi"
      }
    },
    {
      "cell_type": "code",
      "execution_count": 74,
      "metadata": {
        "id": "g00CXUlWlaVx"
      },
      "outputs": [],
      "source": [
        "## 스케일드 닷 프로덕트 어텐션 함수\n",
        "def scaled_dot_product_attention(query, key, value, mask):\n",
        "    ## 어텐션 가중치는 Q와 K의 닷 프로덕트\n",
        "    matmul_qk = tf.matmul(query, key, transpose_b=True)\n",
        "\n",
        "    ## 가중치를 정규화\n",
        "    depth = tf.cast(tf.shape(key)[-1], tf.float32)\n",
        "    logits = matmul_qk / tf.math.sqrt(depth)\n",
        "\n",
        "    ## 패딩에 마스크 추가\n",
        "    if mask is not None:\n",
        "        logits += (mask * -1e9)\n",
        "\n",
        "    ## softmax적용\n",
        "    attention_weights = tf.nn.softmax(logits, axis=-1)\n",
        "\n",
        "    ## 최종 어텐션은 가중치와 V의 닷 프로덕트\n",
        "    output = tf.matmul(attention_weights, value)\n",
        "\n",
        "    return output"
      ]
    },
    {
      "cell_type": "markdown",
      "metadata": {
        "id": "Y8BbOESvgAH9"
      },
      "source": [
        "Multi Head Attention"
      ]
    },
    {
      "cell_type": "code",
      "execution_count": 75,
      "metadata": {
        "id": "D0qkdsfTkVxX"
      },
      "outputs": [],
      "source": [
        "## MultiHeadAttention 구현\n",
        "class MultiHeadAttention(tf.keras.layers.Layer):\n",
        "    def __init__(self, d_model, num_heads, name=\"multi_head_attention\"):\n",
        "        super(MultiHeadAttention, self).__init__(name=name)\n",
        "        self.num_heads = num_heads ## multi heads 수\n",
        "        self.d_model = d_model ## embedding layer 수\n",
        "\n",
        "        assert d_model % self.num_heads == 0\n",
        "\n",
        "        self.depth = d_model // self.num_heads\n",
        "\n",
        "        self.query_dense = tf.keras.layers.Dense(units=d_model)\n",
        "        self.key_dense = tf.keras.layers.Dense(units=d_model)\n",
        "        self.value_dense = tf.keras.layers.Dense(units=d_model)\n",
        "\n",
        "        self.dense = tf.keras.layers.Dense(units=d_model)\n",
        "\n",
        "    def split_heads(self, inputs, batch_size):\n",
        "        inputs = tf.reshape(\n",
        "            inputs, shape=(batch_size, -1, self.num_heads, self.depth)\n",
        "            )\n",
        "        return tf.transpose(inputs, perm=[0, 2, 1, 3])\n",
        "\n",
        "    def call(self, inputs):\n",
        "        query, key, value, mask = inputs['query'], inputs['key'], inputs[\n",
        "            'value'], inputs['mask']\n",
        "        batch_size = tf.shape(query)[0]\n",
        "\n",
        "        # Q, K, V에 각각 Dense를 적용합니다\n",
        "        query = self.query_dense(query)\n",
        "        key = self.key_dense(key)\n",
        "        value = self.value_dense(value)\n",
        "\n",
        "        # 병렬 연산을 위한 머리를 여러 개 만듭니다\n",
        "        query = self.split_heads(query, batch_size)\n",
        "        key = self.split_heads(key, batch_size)\n",
        "        value = self.split_heads(value, batch_size)\n",
        "\n",
        "        # 스케일드 닷 프로덕트 어텐션 함수\n",
        "        scaled_attention = scaled_dot_product_attention(query, key, value, mask)\n",
        "        scaled_attention = tf.transpose(scaled_attention, perm=[0, 2, 1, 3])\n",
        "\n",
        "        # 어텐션 연산 후에 각 결과를 다시 연결(concatenate)합니다\n",
        "        concat_attention = tf.reshape(scaled_attention,\n",
        "                                      (batch_size, -1, self.d_model))\n",
        "\n",
        "        # 최종 결과에도 Dense를 한 번 더 적용합니다\n",
        "        outputs = self.dense(concat_attention)\n",
        "\n",
        "        return outputs"
      ]
    },
    {
      "cell_type": "markdown",
      "source": [
        "Masking"
      ],
      "metadata": {
        "id": "iOsUolt3Eml7"
      }
    },
    {
      "cell_type": "code",
      "execution_count": 76,
      "metadata": {
        "id": "iAwNv_5gewcS"
      },
      "outputs": [],
      "source": [
        "## Padding Masking\n",
        "def create_padding_mask(x):\n",
        "    mask = tf.cast(tf.math.equal(x, 0), tf.float32)\n",
        "\n",
        "    # (batch_size, 1, 1, sequence length)\n",
        "    return mask[:, tf.newaxis, tf.newaxis, :]\n",
        "\n",
        "## Look-ahead masking\n",
        "def create_look_ahead_mask(x):\n",
        "    seq_len = tf.shape(x)[1]\n",
        "    look_ahead_mask = 1 - tf.linalg.band_part(tf.ones((seq_len, seq_len)), -1, 0)\n",
        "    padding_mask = create_padding_mask(x)\n",
        "\n",
        "    return tf.maximum(look_ahead_mask, padding_mask)"
      ]
    },
    {
      "cell_type": "markdown",
      "source": [
        "Encoder"
      ],
      "metadata": {
        "id": "2Vg10b9bEtvj"
      }
    },
    {
      "cell_type": "code",
      "execution_count": 77,
      "metadata": {
        "id": "GNvDMZKYiotG"
      },
      "outputs": [],
      "source": [
        "#인코더 레이어\n",
        "# 인코더 하나의 레이어를 함수로 구현.\n",
        "# 이 하나의 레이어 안에는 두 개의 서브 레이어가 존재합니다.\n",
        "def encoder_layer(units, d_model, num_heads, dropout, name=\"encoder_layer\"):\n",
        "  inputs = tf.keras.Input(shape=(None, d_model), name=\"inputs\")\n",
        "\n",
        "  # 패딩 마스크 사용\n",
        "  padding_mask = tf.keras.Input(shape=(1, 1, None), name=\"padding_mask\")\n",
        "\n",
        "  # 첫 번째 서브 레이어 : 멀티 헤드 어텐션 수행 (셀프 어텐션)\n",
        "  attention = MultiHeadAttention(\n",
        "      d_model, num_heads, name=\"attention\")({\n",
        "          'query': inputs,\n",
        "          'key': inputs,\n",
        "          'value': inputs,\n",
        "          'mask': padding_mask\n",
        "      })\n",
        "\n",
        "  # 어텐션의 결과는 Dropout과 Layer Normalization이라는 훈련을 돕는 테크닉을 수행\n",
        "  attention = tf.keras.layers.Dropout(rate=dropout)(attention)\n",
        "  attention = tf.keras.layers.LayerNormalization(\n",
        "      epsilon=1e-6)(inputs + attention)\n",
        "\n",
        "  # 두 번째 서브 레이어 : 2개의 완전연결층\n",
        "  outputs = tf.keras.layers.Dense(units=units, activation='relu')(attention)\n",
        "  outputs = tf.keras.layers.Dense(units=d_model)(outputs)\n",
        "\n",
        "  # 완전연결층의 결과는 Dropout과 LayerNormalization이라는 훈련을 돕는 테크닉을 수행\n",
        "  outputs = tf.keras.layers.Dropout(rate=dropout)(outputs)\n",
        "  outputs = tf.keras.layers.LayerNormalization(\n",
        "      epsilon=1e-6)(attention + outputs)\n",
        "\n",
        "  return tf.keras.Model(\n",
        "      inputs=[inputs, padding_mask], outputs=outputs, name=name)\n",
        "\n",
        "\n",
        "\n",
        "#인코더\n",
        "def encoder(vocab_size,\n",
        "            num_layers,\n",
        "            units,\n",
        "            d_model,\n",
        "            num_heads,\n",
        "            dropout,\n",
        "            name=\"encoder\"):\n",
        "  inputs = tf.keras.Input(shape=(None,), name=\"inputs\")\n",
        "\n",
        "  # 패딩 마스크 사용\n",
        "  padding_mask = tf.keras.Input(shape=(1, 1, None), name=\"padding_mask\")\n",
        "\n",
        "  # 임베딩 레이어\n",
        "  embeddings = tf.keras.layers.Embedding(vocab_size, d_model)(inputs)\n",
        "  embeddings *= tf.math.sqrt(tf.cast(d_model, tf.float32))\n",
        "\n",
        "  # 포지셔널 인코딩\n",
        "  embeddings = PositionalEncoding(vocab_size, d_model)(embeddings)\n",
        "\n",
        "  outputs = tf.keras.layers.Dropout(rate=dropout)(embeddings)\n",
        "\n",
        "  # num_layers만큼 쌓아올린 인코더의 층.\n",
        "  for i in range(num_layers):\n",
        "    outputs = encoder_layer(\n",
        "        units=units,\n",
        "        d_model=d_model,\n",
        "        num_heads=num_heads,\n",
        "        dropout=dropout,\n",
        "        name=\"encoder_layer_{}\".format(i),\n",
        "    )([outputs, padding_mask])\n",
        "\n",
        "  return tf.keras.Model(\n",
        "      inputs=[inputs, padding_mask], outputs=outputs, name=name)\n"
      ]
    },
    {
      "cell_type": "markdown",
      "source": [
        "Decoder"
      ],
      "metadata": {
        "id": "sflAg2rEE4bJ"
      }
    },
    {
      "cell_type": "code",
      "execution_count": 78,
      "metadata": {
        "id": "OtyWum6ZivYA"
      },
      "outputs": [],
      "source": [
        "#디코더 레이어\n",
        "\n",
        "# 디코더 하나의 레이어를 함수로 구현.\n",
        "# 이 하나의 레이어 안에는 세 개의 서브 레이어가 존재합니다.\n",
        "def decoder_layer(units, d_model, num_heads, dropout, name=\"decoder_layer\"):\n",
        "  inputs = tf.keras.Input(shape=(None, d_model), name=\"inputs\")\n",
        "  enc_outputs = tf.keras.Input(shape=(None, d_model), name=\"encoder_outputs\")\n",
        "  look_ahead_mask = tf.keras.Input(\n",
        "      shape=(1, None, None), name=\"look_ahead_mask\")\n",
        "  padding_mask = tf.keras.Input(shape=(1, 1, None), name='padding_mask')\n",
        "\n",
        "  # 첫 번째 서브 레이어 : 멀티 헤드 어텐션 수행 (셀프 어텐션)\n",
        "  attention1 = MultiHeadAttention(\n",
        "      d_model, num_heads, name=\"attention_1\")(inputs={\n",
        "          'query': inputs,\n",
        "          'key': inputs,\n",
        "          'value': inputs,\n",
        "          'mask': look_ahead_mask\n",
        "      })\n",
        "\n",
        "  # 멀티 헤드 어텐션의 결과는 LayerNormalization이라는 훈련을 돕는 테크닉을 수행\n",
        "  attention1 = tf.keras.layers.LayerNormalization(\n",
        "      epsilon=1e-6)(attention1 + inputs)\n",
        "\n",
        "  # 두 번째 서브 레이어 : 마스크드 멀티 헤드 어텐션 수행 (인코더-디코더 어텐션)\n",
        "  attention2 = MultiHeadAttention(\n",
        "      d_model, num_heads, name=\"attention_2\")(inputs={\n",
        "          'query': attention1,\n",
        "          'key': enc_outputs,\n",
        "          'value': enc_outputs,\n",
        "          'mask': padding_mask\n",
        "      })\n",
        "\n",
        "  # 마스크드 멀티 헤드 어텐션의 결과는\n",
        "  # Dropout과 LayerNormalization이라는 훈련을 돕는 테크닉을 수행\n",
        "  attention2 = tf.keras.layers.Dropout(rate=dropout)(attention2)\n",
        "  attention2 = tf.keras.layers.LayerNormalization(\n",
        "      epsilon=1e-6)(attention2 + attention1)\n",
        "\n",
        "  # 세 번째 서브 레이어 : 2개의 완전연결층\n",
        "  outputs = tf.keras.layers.Dense(units=units, activation='relu')(attention2)\n",
        "  outputs = tf.keras.layers.Dense(units=d_model)(outputs)\n",
        "\n",
        "  # 완전연결층의 결과는 Dropout과 LayerNormalization 수행\n",
        "  outputs = tf.keras.layers.Dropout(rate=dropout)(outputs)\n",
        "  outputs = tf.keras.layers.LayerNormalization(\n",
        "      epsilon=1e-6)(outputs + attention2)\n",
        "\n",
        "  return tf.keras.Model(\n",
        "      inputs=[inputs, enc_outputs, look_ahead_mask, padding_mask],\n",
        "      outputs=outputs,\n",
        "      name=name)\n",
        "\n",
        "#디코더\n",
        "\n",
        "def decoder(vocab_size,\n",
        "            num_layers,\n",
        "            units,\n",
        "            d_model,\n",
        "            num_heads,\n",
        "            dropout,\n",
        "            name='decoder'):\n",
        "  inputs = tf.keras.Input(shape=(None,), name='inputs')\n",
        "  enc_outputs = tf.keras.Input(shape=(None, d_model), name='encoder_outputs')\n",
        "  look_ahead_mask = tf.keras.Input(\n",
        "      shape=(1, None, None), name='look_ahead_mask')\n",
        "\n",
        "  # 패딩 마스크\n",
        "  padding_mask = tf.keras.Input(shape=(1, 1, None), name='padding_mask')\n",
        "\n",
        "  # 임베딩 레이어\n",
        "  embeddings = tf.keras.layers.Embedding(vocab_size, d_model)(inputs)\n",
        "  embeddings *= tf.math.sqrt(tf.cast(d_model, tf.float32))\n",
        "\n",
        "  # 포지셔널 인코딩\n",
        "  embeddings = PositionalEncoding(vocab_size, d_model)(embeddings)\n",
        "\n",
        "  # Dropout이라는 훈련을 돕는 테크닉을 수행\n",
        "  outputs = tf.keras.layers.Dropout(rate=dropout)(embeddings)\n",
        "\n",
        "  for i in range(num_layers):\n",
        "    outputs = decoder_layer(\n",
        "        units=units,\n",
        "        d_model=d_model,\n",
        "        num_heads=num_heads,\n",
        "        dropout=dropout,\n",
        "        name='decoder_layer_{}'.format(i),\n",
        "    )(inputs=[outputs, enc_outputs, look_ahead_mask, padding_mask])\n",
        "\n",
        "  return tf.keras.Model(\n",
        "      inputs=[inputs, enc_outputs, look_ahead_mask, padding_mask],\n",
        "      outputs=outputs,\n",
        "      name=name)\n"
      ]
    },
    {
      "cell_type": "markdown",
      "source": [
        "Transformer"
      ],
      "metadata": {
        "id": "j7s0QBhFFAMD"
      }
    },
    {
      "cell_type": "code",
      "execution_count": 79,
      "metadata": {
        "id": "9FhV7Ol8f_EE"
      },
      "outputs": [],
      "source": [
        "def transformer(\n",
        "    vocab_size,\n",
        "    num_layers,\n",
        "    units,\n",
        "    d_model,\n",
        "    num_heads,\n",
        "    dropout,\n",
        "    name=\"transformer\"\n",
        "   ):\n",
        "    ## encoder input & decoder input\n",
        "    inputs = tf.keras.Input(shape=(None,), name=\"inputs\")\n",
        "    dec_inputs = tf.keras.Input(shape=(None,), name=\"dec_inputs\")\n",
        "\n",
        "    ## 인코더에서 패딩을 위한 마스크\n",
        "    enc_padding_mask = tf.keras.layers.Lambda(\n",
        "        create_padding_mask, output_shape=(1, 1, None),\n",
        "        name='enc_padding_mask'\n",
        "        )(inputs)\n",
        "\n",
        "    ## 디코더에서 미래의 토큰을 마스크 하기 위해서 사용합니다.\n",
        "    ## 내부적으로 패딩 마스크도 포함되어져 있습니다.\n",
        "    look_ahead_mask = tf.keras.layers.Lambda(\n",
        "        create_look_ahead_mask,\n",
        "        output_shape=(1, None, None),\n",
        "        name='look_ahead_mask'\n",
        "        )(dec_inputs)\n",
        "\n",
        "    ## 두 번째 어텐션 블록에서 인코더의 벡터들을 마스킹\n",
        "    ## 디코더에서 패딩을 위한 마스크\n",
        "    dec_padding_mask = tf.keras.layers.Lambda(\n",
        "      create_padding_mask, output_shape=(1, 1, None),\n",
        "      name='dec_padding_mask')(inputs)\n",
        "\n",
        "    ## 인코더\n",
        "    enc_outputs = encoder(\n",
        "      vocab_size=vocab_size,\n",
        "      num_layers=num_layers,\n",
        "      units=units,\n",
        "      d_model=d_model,\n",
        "      num_heads=num_heads,\n",
        "      dropout=dropout,\n",
        "    )(inputs=[inputs, enc_padding_mask])\n",
        "\n",
        "    ## 디코더\n",
        "    dec_outputs = decoder(\n",
        "      vocab_size=vocab_size,\n",
        "      num_layers=num_layers,\n",
        "      units=units,\n",
        "      d_model=d_model,\n",
        "      num_heads=num_heads,\n",
        "      dropout=dropout,\n",
        "    )(inputs=[dec_inputs, enc_outputs, look_ahead_mask, dec_padding_mask])\n",
        "\n",
        "    ## 완전연결층\n",
        "    outputs = tf.keras.layers.Dense(units=vocab_size, name=\"outputs\")(dec_outputs)\n",
        "\n",
        "    return tf.keras.Model(inputs=[inputs, dec_inputs], outputs=outputs, name=name)"
      ]
    },
    {
      "cell_type": "markdown",
      "metadata": {
        "id": "6ev-KXb1gE39"
      },
      "source": [
        "### 6. 모델 생성하기"
      ]
    },
    {
      "cell_type": "markdown",
      "source": [
        "Hyperparameter"
      ],
      "metadata": {
        "id": "-uysdPeTFqDc"
      }
    },
    {
      "cell_type": "code",
      "execution_count": 106,
      "metadata": {
        "id": "nBXv_K09gDiE",
        "colab": {
          "base_uri": "https://localhost:8080/"
        },
        "outputId": "5b250f68-c2a9-4a2f-f7db-836dc32a751d"
      },
      "outputs": [
        {
          "output_type": "stream",
          "name": "stdout",
          "text": [
            "Model: \"transformer\"\n",
            "__________________________________________________________________________________________________\n",
            " Layer (type)                Output Shape                 Param #   Connected to                  \n",
            "==================================================================================================\n",
            " inputs (InputLayer)         [(None, None)]               0         []                            \n",
            "                                                                                                  \n",
            " dec_inputs (InputLayer)     [(None, None)]               0         []                            \n",
            "                                                                                                  \n",
            " enc_padding_mask (Lambda)   (None, 1, 1, None)           0         ['inputs[0][0]']              \n",
            "                                                                                                  \n",
            " encoder (Functional)        (None, None, 512)            2309427   ['inputs[0][0]',              \n",
            "                                                          2          'enc_padding_mask[0][0]']    \n",
            "                                                                                                  \n",
            " look_ahead_mask (Lambda)    (None, 1, None, None)        0         ['dec_inputs[0][0]']          \n",
            "                                                                                                  \n",
            " dec_padding_mask (Lambda)   (None, 1, 1, None)           0         ['inputs[0][0]']              \n",
            "                                                                                                  \n",
            " decoder (Functional)        (None, None, 512)            2940416   ['dec_inputs[0][0]',          \n",
            "                                                          0          'encoder[0][0]',             \n",
            "                                                                     'look_ahead_mask[0][0]',     \n",
            "                                                                     'dec_padding_mask[0][0]']    \n",
            "                                                                                                  \n",
            " outputs (Dense)             (None, None, 8164)           4188132   ['decoder[0][0]']             \n",
            "                                                                                                  \n",
            "==================================================================================================\n",
            "Total params: 56686564 (216.24 MB)\n",
            "Trainable params: 56686564 (216.24 MB)\n",
            "Non-trainable params: 0 (0.00 Byte)\n",
            "__________________________________________________________________________________________________\n"
          ]
        }
      ],
      "source": [
        "tf.keras.backend.clear_session()\n",
        "\n",
        "## 하이퍼파라미터\n",
        "NUM_LAYERS = 6 # 인코더와 디코더의 층의 개수\n",
        "D_MODEL = 512 # 인코더와 디코더 내부의 입, 출력의 고정 차원\n",
        "NUM_HEADS = 8 # 멀티 헤드 어텐션에서의 헤드 수\n",
        "UNITS = 2048 # 피드 포워드 신경망의 은닉층의 크기\n",
        "DROPOUT = 0.15 # 드롭아웃의 비율\n",
        "\n",
        "model = transformer(\n",
        "    vocab_size=VOCAB_SIZE,\n",
        "    num_layers=NUM_LAYERS,\n",
        "    units=UNITS,\n",
        "    d_model=D_MODEL,\n",
        "    num_heads=NUM_HEADS,\n",
        "    dropout=DROPOUT)\n",
        "\n",
        "model.summary()"
      ]
    },
    {
      "cell_type": "markdown",
      "source": [
        "Loss Function"
      ],
      "metadata": {
        "id": "_6yPIZ_KFstK"
      }
    },
    {
      "cell_type": "code",
      "source": [
        "def loss_function(y_true, y_pred):\n",
        "    y_true = tf.reshape(y_true, shape=(-1, MAX_LENGTH - 1))\n",
        "\n",
        "    loss = tf.keras.losses.SparseCategoricalCrossentropy(\n",
        "        from_logits=True, reduction='none')(y_true, y_pred)\n",
        "\n",
        "    mask = tf.cast(tf.not_equal(y_true, 0), tf.float32)\n",
        "    loss = tf.multiply(loss, mask) ## padding 부분은 빼고 loss를 계산한다?\n",
        "\n",
        "    return tf.reduce_mean(loss)"
      ],
      "metadata": {
        "id": "Npa1hGIyZmkS"
      },
      "execution_count": 82,
      "outputs": []
    },
    {
      "cell_type": "markdown",
      "source": [
        "Learning Rate"
      ],
      "metadata": {
        "id": "RhxEW174Fxzk"
      }
    },
    {
      "cell_type": "code",
      "source": [
        "class CustomSchedule(tf.keras.optimizers.schedules.LearningRateSchedule):\n",
        "    def __init__(self, d_model, warmup_steps=4000):\n",
        "        super(CustomSchedule, self).__init__()\n",
        "        self.d_model = d_model\n",
        "        self.d_model = tf.cast(self.d_model, tf.float32)\n",
        "        self.warmup_steps = warmup_steps\n",
        "\n",
        "    def __call__(self, step):\n",
        "        step = tf.cast(step, tf.float32)\n",
        "        arg1 = tf.math.rsqrt(step)\n",
        "        arg2 = step * (self.warmup_steps**-1.5)\n",
        "\n",
        "        return tf.math.rsqrt(self.d_model) * tf.math.minimum(arg1, arg2)"
      ],
      "metadata": {
        "id": "e-dYvGGQF2gD"
      },
      "execution_count": 56,
      "outputs": []
    },
    {
      "cell_type": "markdown",
      "source": [
        "Model Compile"
      ],
      "metadata": {
        "id": "Kelq-5s_Fvjq"
      }
    },
    {
      "cell_type": "code",
      "source": [
        "learning_rate = CustomSchedule(D_MODEL)\n",
        "\n",
        "optimizer = tf.keras.optimizers.Adam(\n",
        "    learning_rate, beta_1=0.9, beta_2=0.98, epsilon=1e-9)\n",
        "\n",
        "def accuracy(y_true, y_pred):\n",
        "    y_true = tf.reshape(y_true, shape=(-1, MAX_LENGTH - 1))\n",
        "    return tf.keras.metrics.sparse_categorical_accuracy(y_true, y_pred)\n",
        "\n",
        "model.compile(optimizer=optimizer, loss=loss_function, metrics=[accuracy])"
      ],
      "metadata": {
        "id": "Wzp9YtyxF6x6"
      },
      "execution_count": 60,
      "outputs": []
    },
    {
      "cell_type": "markdown",
      "metadata": {
        "id": "ets30dmNgGr9"
      },
      "source": [
        "### 7. Training Model"
      ]
    },
    {
      "cell_type": "code",
      "execution_count": 99,
      "metadata": {
        "id": "R6UEAMKsgHuu",
        "colab": {
          "base_uri": "https://localhost:8080/"
        },
        "outputId": "e90089a7-34a5-48f8-8f5b-de5aa72848d9"
      },
      "outputs": [
        {
          "output_type": "stream",
          "name": "stdout",
          "text": [
            "Epoch 1/30\n",
            "185/185 [==============================] - 200s 921ms/step - loss: 2.7264 - accuracy: 0.0531\n",
            "Epoch 2/30\n",
            "185/185 [==============================] - 167s 904ms/step - loss: 2.1726 - accuracy: 0.1017\n",
            "Epoch 3/30\n",
            "185/185 [==============================] - 169s 912ms/step - loss: 1.9957 - accuracy: 0.1043\n",
            "Epoch 4/30\n",
            "185/185 [==============================] - 168s 907ms/step - loss: 1.9101 - accuracy: 0.1089\n",
            "Epoch 5/30\n",
            "185/185 [==============================] - 168s 908ms/step - loss: 1.8378 - accuracy: 0.1132\n",
            "Epoch 6/30\n",
            "185/185 [==============================] - 167s 902ms/step - loss: 1.7754 - accuracy: 0.1161\n",
            "Epoch 7/30\n",
            "185/185 [==============================] - 167s 904ms/step - loss: 1.7126 - accuracy: 0.1191\n",
            "Epoch 8/30\n",
            "185/185 [==============================] - 167s 902ms/step - loss: 1.6522 - accuracy: 0.1223\n",
            "Epoch 9/30\n",
            "185/185 [==============================] - 167s 904ms/step - loss: 1.5915 - accuracy: 0.1250\n",
            "Epoch 10/30\n",
            "185/185 [==============================] - 167s 902ms/step - loss: 1.5301 - accuracy: 0.1288\n",
            "Epoch 11/30\n",
            "185/185 [==============================] - 167s 900ms/step - loss: 1.4644 - accuracy: 0.1326\n",
            "Epoch 12/30\n",
            "185/185 [==============================] - 167s 901ms/step - loss: 1.4011 - accuracy: 0.1369\n",
            "Epoch 13/30\n",
            "185/185 [==============================] - 167s 900ms/step - loss: 1.3333 - accuracy: 0.1424\n",
            "Epoch 14/30\n",
            "185/185 [==============================] - 167s 901ms/step - loss: 1.2637 - accuracy: 0.1492\n",
            "Epoch 15/30\n",
            "185/185 [==============================] - 166s 899ms/step - loss: 1.1926 - accuracy: 0.1563\n",
            "Epoch 16/30\n",
            "185/185 [==============================] - 167s 904ms/step - loss: 1.1250 - accuracy: 0.1641\n",
            "Epoch 17/30\n",
            "185/185 [==============================] - 166s 899ms/step - loss: 1.0583 - accuracy: 0.1726\n",
            "Epoch 18/30\n",
            "185/185 [==============================] - 167s 901ms/step - loss: 0.9976 - accuracy: 0.1807\n",
            "Epoch 19/30\n",
            "185/185 [==============================] - 166s 896ms/step - loss: 0.9375 - accuracy: 0.1892\n",
            "Epoch 20/30\n",
            "185/185 [==============================] - 166s 895ms/step - loss: 0.8916 - accuracy: 0.1957\n",
            "Epoch 21/30\n",
            "185/185 [==============================] - 165s 894ms/step - loss: 0.8520 - accuracy: 0.2008\n",
            "Epoch 22/30\n",
            "185/185 [==============================] - 167s 901ms/step - loss: 0.8203 - accuracy: 0.2055\n",
            "Epoch 23/30\n",
            "185/185 [==============================] - 166s 895ms/step - loss: 0.7810 - accuracy: 0.2114\n",
            "Epoch 24/30\n",
            "185/185 [==============================] - 166s 898ms/step - loss: 0.7362 - accuracy: 0.2197\n",
            "Epoch 25/30\n",
            "185/185 [==============================] - 166s 896ms/step - loss: 0.7038 - accuracy: 0.2256\n",
            "Epoch 26/30\n",
            "185/185 [==============================] - 166s 896ms/step - loss: 0.6761 - accuracy: 0.2300\n",
            "Epoch 27/30\n",
            "185/185 [==============================] - 166s 895ms/step - loss: 0.6459 - accuracy: 0.2364\n",
            "Epoch 28/30\n",
            "185/185 [==============================] - 167s 901ms/step - loss: 0.6255 - accuracy: 0.2403\n",
            "Epoch 29/30\n",
            "185/185 [==============================] - 166s 898ms/step - loss: 0.6035 - accuracy: 0.2449\n",
            "Epoch 30/30\n",
            "185/185 [==============================] - 167s 900ms/step - loss: 0.5853 - accuracy: 0.2485\n"
          ]
        }
      ],
      "source": [
        "\n",
        "history = model.fit(\n",
        "    dataset,\n",
        "    epochs=30,\n",
        "    verbose=1,\n",
        ")"
      ]
    },
    {
      "cell_type": "code",
      "source": [
        "## loss 시각화\n",
        "plt.figure(figsize=(12, 4))\n",
        "plt.plot(history.history['loss'], label='Train Loss')\n",
        "plt.title('Training Loss')\n",
        "plt.xlabel('Epochs')\n",
        "plt.ylabel('Loss')\n",
        "plt.legend()"
      ],
      "metadata": {
        "colab": {
          "base_uri": "https://localhost:8080/",
          "height": 427
        },
        "id": "DpKDhGyT--FP",
        "outputId": "abb85991-596d-4982-d93e-838f6dd0613d"
      },
      "execution_count": 100,
      "outputs": [
        {
          "output_type": "execute_result",
          "data": {
            "text/plain": [
              "<matplotlib.legend.Legend at 0x7957b8566380>"
            ]
          },
          "metadata": {},
          "execution_count": 100
        },
        {
          "output_type": "display_data",
          "data": {
            "text/plain": [
              "<Figure size 1200x400 with 1 Axes>"
            ],
            "image/png": "[encoded data removed]"
          },
          "metadata": {}
        }
      ]
    },
    {
      "cell_type": "markdown",
      "source": [
        "### 8. Model Evaluation"
      ],
      "metadata": {
        "id": "G8lUsppHjZQL"
      }
    },
    {
      "cell_type": "code",
      "source": [
        "def decoder_inference(sentence):\n",
        "    sentence = preprocess_sentence(sentence)\n",
        "\n",
        "    ## 입력된 문장을 정수 인코딩 후, 시작 토큰과 종료 토큰을 앞뒤로 추가.\n",
        "    ## ex) Where have you been? → [[8331   86   30    5 1059    7 8332]]\n",
        "    sentence = tf.expand_dims(\n",
        "        START_TOKEN + tokenizer.encode(sentence) + END_TOKEN, axis=0)\n",
        "\n",
        "    ## 디코더의 현재까지의 예측한 출력 시퀀스가 지속적으로 저장되는 변수.\n",
        "    ## 처음에는 예측한 내용이 없음으로 시작 토큰만 별도 저장. ex) 8331\n",
        "    output_sequence = tf.expand_dims(START_TOKEN, 0)\n",
        "\n",
        "    ## 디코더의 인퍼런스 단계\n",
        "    for i in range(MAX_LENGTH):\n",
        "        ## 디코더는 최대 MAX_LENGTH의 길이만큼 다음 단어 예측을 반복합니다.\n",
        "        predictions = model(inputs=[sentence, output_sequence], training=False)\n",
        "        predictions = predictions[:, -1:, :]\n",
        "\n",
        "        ## 현재 예측한 단어의 정수\n",
        "        predicted_id = tf.cast(tf.argmax(predictions, axis=-1), tf.int32)\n",
        "\n",
        "        ## 만약 현재 예측한 단어가 종료 토큰이라면 for문을 종료\n",
        "        if tf.equal(predicted_id, END_TOKEN[0]):\n",
        "            break\n",
        "\n",
        "        ## 예측한 단어들은 지속적으로 output_sequence에 추가됩니다.\n",
        "        ## 이 output_sequence는 다시 디코더의 입력이 됩니다.\n",
        "        output_sequence = tf.concat([output_sequence, predicted_id], axis=-1)\n",
        "\n",
        "    return tf.squeeze(output_sequence, axis=0)"
      ],
      "metadata": {
        "id": "VDnggIOwiSrS"
      },
      "execution_count": 101,
      "outputs": []
    },
    {
      "cell_type": "markdown",
      "source": [
        "### 9. Try Conversation"
      ],
      "metadata": {
        "id": "mOmuBWrAjjJ5"
      }
    },
    {
      "cell_type": "code",
      "source": [
        "def sentence_generation(sentence):\n",
        "    ## 입력 문장에 대해서 디코더를 동작 시켜 예측된 정수 시퀀스를 리턴받습니다.\n",
        "    prediction = decoder_inference(sentence)\n",
        "\n",
        "    ## 정수 시퀀스를 다시 텍스트 시퀀스로 변환합니다.\n",
        "    predicted_sentence = tokenizer.decode(\n",
        "        [i for i in prediction if i < tokenizer.vocab_size])\n",
        "\n",
        "    print('입력 : {}'.format(sentence))\n",
        "    print('출력 : {}'.format(predicted_sentence))\n",
        "\n",
        "    return predicted_sentence"
      ],
      "metadata": {
        "id": "ZSUlxhsXiT9y"
      },
      "execution_count": 102,
      "outputs": []
    },
    {
      "cell_type": "code",
      "source": [
        "sentence_generation('컴퓨터가 망가졌어')"
      ],
      "metadata": {
        "colab": {
          "base_uri": "https://localhost:8080/",
          "height": 70
        },
        "id": "dopa5yxdiUTy",
        "outputId": "50015f0c-e930-4e51-c733-35c650a8791d"
      },
      "execution_count": 103,
      "outputs": [
        {
          "output_type": "stream",
          "name": "stdout",
          "text": [
            "입력 : 컴퓨터가 망가졌어\n",
            "출력 : 잘 찾아보세요 .\n"
          ]
        },
        {
          "output_type": "execute_result",
          "data": {
            "text/plain": [
              "'잘 찾아보세요 .'"
            ],
            "application/vnd.google.colaboratory.intrinsic+json": {
              "type": "string"
            }
          },
          "metadata": {},
          "execution_count": 103
        }
      ]
    },
    {
      "cell_type": "code",
      "source": [
        "sentence_generation('알고리즘이 아까는 잘 됐는데 갑자기 안돼')"
      ],
      "metadata": {
        "colab": {
          "base_uri": "https://localhost:8080/",
          "height": 70
        },
        "id": "VpYof950iZSo",
        "outputId": "209a129a-0388-4789-947c-25ad5eea3432"
      },
      "execution_count": 104,
      "outputs": [
        {
          "output_type": "stream",
          "name": "stdout",
          "text": [
            "입력 : 알고리즘이 아까는 잘 됐는데 갑자기 안돼\n",
            "출력 : 다른 사람 말은 한 귀로 흘리세요 .\n"
          ]
        },
        {
          "output_type": "execute_result",
          "data": {
            "text/plain": [
              "'다른 사람 말은 한 귀로 흘리세요 .'"
            ],
            "application/vnd.google.colaboratory.intrinsic+json": {
              "type": "string"
            }
          },
          "metadata": {},
          "execution_count": 104
        }
      ]
    },
    {
      "cell_type": "code",
      "source": [
        "sentence_generation('사랑해')"
      ],
      "metadata": {
        "colab": {
          "base_uri": "https://localhost:8080/",
          "height": 70
        },
        "id": "B6X18Z95kZcx",
        "outputId": "c2546c2b-f622-4a36-9539-e401c9a55076"
      },
      "execution_count": 113,
      "outputs": [
        {
          "output_type": "stream",
          "name": "stdout",
          "text": [
            "입력 : 사랑해\n",
            "출력 : 그러니그러니그러니그러니그러니그러니그러니그러니그러니그러니그러니그러니그러니그러니그러니그러니그러니그러니그러니그러니\n"
          ]
        },
        {
          "output_type": "execute_result",
          "data": {
            "text/plain": [
              "'그러니그러니그러니그러니그러니그러니그러니그러니그러니그러니그러니그러니그러니그러니그러니그러니그러니그러니그러니그러니'"
            ],
            "application/vnd.google.colaboratory.intrinsic+json": {
              "type": "string"
            }
          },
          "metadata": {},
          "execution_count": 113
        }
      ]
    },
    {
      "cell_type": "code",
      "source": [
        "sentence_generation('혹시 여기 무간지옥이야?')"
      ],
      "metadata": {
        "colab": {
          "base_uri": "https://localhost:8080/",
          "height": 107
        },
        "id": "IumZDPVUilQx",
        "outputId": "ccaa617d-82b2-4df5-f913-6f0cde673b24"
      },
      "execution_count": 107,
      "outputs": [
        {
          "output_type": "stream",
          "name": "stdout",
          "text": [
            "입력 : 혹시 여기 무간지옥이야?\n",
            "출력 : 변화도 변화도 변화도 변화도 변화도 변화도 변화도 변화도 변화도 변화도 변화도 변화도 변화도 변화도 변화도 변화도 변화도 변화도 변화도 변화도 \n"
          ]
        },
        {
          "output_type": "execute_result",
          "data": {
            "text/plain": [
              "'변화도 변화도 변화도 변화도 변화도 변화도 변화도 변화도 변화도 변화도 변화도 변화도 변화도 변화도 변화도 변화도 변화도 변화도 변화도 변화도 '"
            ],
            "application/vnd.google.colaboratory.intrinsic+json": {
              "type": "string"
            }
          },
          "metadata": {},
          "execution_count": 107
        }
      ]
    },
    {
      "cell_type": "code",
      "source": [
        "sentence_generation('뭐야? 엄청 무섭다 ㄷㄷ')"
      ],
      "metadata": {
        "colab": {
          "base_uri": "https://localhost:8080/",
          "height": 70
        },
        "id": "lCxIqQPujt9B",
        "outputId": "96e794f0-ee7c-45c1-cfc6-820d75b7fe59"
      },
      "execution_count": 108,
      "outputs": [
        {
          "output_type": "stream",
          "name": "stdout",
          "text": [
            "입력 : 뭐야? 엄청 무섭다 ㄷㄷ\n",
            "출력 : 그러니그러니그러니그러니그러니그러니그러니그러니그러니그러니그러니그러니그러니그러니그러니그러니그러니그러니그러니그러니\n"
          ]
        },
        {
          "output_type": "execute_result",
          "data": {
            "text/plain": [
              "'그러니그러니그러니그러니그러니그러니그러니그러니그러니그러니그러니그러니그러니그러니그러니그러니그러니그러니그러니그러니'"
            ],
            "application/vnd.google.colaboratory.intrinsic+json": {
              "type": "string"
            }
          },
          "metadata": {},
          "execution_count": 108
        }
      ]
    },
    {
      "cell_type": "code",
      "source": [
        "sentence_generation('그러는 이유가 뭐야')"
      ],
      "metadata": {
        "colab": {
          "base_uri": "https://localhost:8080/",
          "height": 70
        },
        "id": "bwZ2oesMj9DC",
        "outputId": "4e875730-33ea-4228-dc05-fc707b161f8a"
      },
      "execution_count": 109,
      "outputs": [
        {
          "output_type": "stream",
          "name": "stdout",
          "text": [
            "입력 : 그러는 이유가 뭐야\n",
            "출력 : 그러니그러니그러니그러니그러니그러니그러니그러니그러니그러니그러니그러니그러니그러니그러니그러니그러니그러니그러니그러니\n"
          ]
        },
        {
          "output_type": "execute_result",
          "data": {
            "text/plain": [
              "'그러니그러니그러니그러니그러니그러니그러니그러니그러니그러니그러니그러니그러니그러니그러니그러니그러니그러니그러니그러니'"
            ],
            "application/vnd.google.colaboratory.intrinsic+json": {
              "type": "string"
            }
          },
          "metadata": {},
          "execution_count": 109
        }
      ]
    },
    {
      "cell_type": "code",
      "source": [
        "sentence_generation('제주도 빨리 가고 싶다.')"
      ],
      "metadata": {
        "colab": {
          "base_uri": "https://localhost:8080/",
          "height": 70
        },
        "id": "5M_bwvTakCAa",
        "outputId": "70662e53-fe47-4a76-8c56-c21de5deab93"
      },
      "execution_count": 111,
      "outputs": [
        {
          "output_type": "stream",
          "name": "stdout",
          "text": [
            "입력 : 제주도 빨리 가고 싶다.\n",
            "출력 : \u0014졌다졌다졌다졌다졌다졌다졌다그러니그러니그러니그러니졌다졌다졌다졌다졌다졌다졌다그러니\n"
          ]
        },
        {
          "output_type": "execute_result",
          "data": {
            "text/plain": [
              "'\\x14졌다졌다졌다졌다졌다졌다졌다그러니그러니그러니그러니졌다졌다졌다졌다졌다졌다졌다그러니'"
            ],
            "application/vnd.google.colaboratory.intrinsic+json": {
              "type": "string"
            }
          },
          "metadata": {},
          "execution_count": 111
        }
      ]
    },
    {
      "cell_type": "code",
      "source": [
        "sentence_generation('물건이 망가졌어')"
      ],
      "metadata": {
        "colab": {
          "base_uri": "https://localhost:8080/",
          "height": 107
        },
        "id": "EUG11np1kOMS",
        "outputId": "ce0b6a8f-ad5b-45eb-fb27-f65fbf19ceb2"
      },
      "execution_count": 112,
      "outputs": [
        {
          "output_type": "stream",
          "name": "stdout",
          "text": [
            "입력 : 물건이 망가졌어\n",
            "출력 : 로부터 로부터 로부터 로부터 로부터 부족한가로부터 부족한가부족한가부족한가부족한가부족한가부족한가부족한가부족한가부족한가부족한가부족한가부족한가부족한가\n"
          ]
        },
        {
          "output_type": "execute_result",
          "data": {
            "text/plain": [
              "'로부터 로부터 로부터 로부터 로부터 부족한가로부터 부족한가부족한가부족한가부족한가부족한가부족한가부족한가부족한가부족한가부족한가부족한가부족한가부족한가'"
            ],
            "application/vnd.google.colaboratory.intrinsic+json": {
              "type": "string"
            }
          },
          "metadata": {},
          "execution_count": 112
        }
      ]
    },
    {
      "cell_type": "markdown",
      "source": [
        "- 회고\n",
        "\n",
        "왜 잘 되던것도 런타임이 끊기고 나서 다시 돌리면 안되는 걸까? 실행하는 순서에 따라 문제가 생길 수 있어서 순서에 따라서 코드를 작성하고 있는데... 아까 잘 되었던 것을 다시 바꿀수도 없고... 다시 바꿔도 새로운 문제가 생겨나고...\n",
        "문제 가 생겼을때 해결하는 게 참 힘들다\n",
        "\n",
        "\n",
        "\n",
        "그리고 처음 2번째는 문장의 형태로 생성이 되는 것 같은데 그 이후부터느 생성이 이상하게 되는것 같다."
      ],
      "metadata": {
        "id": "7Jpc3WWVbfnQ"
      }
    },
    {
      "cell_type": "code",
      "source": [],
      "metadata": {
        "id": "YADrAkYfcMGL"
      },
      "execution_count": null,
      "outputs": []
    }
  ],
  "metadata": {
    "colab": {
      "provenance": [],
      "machine_shape": "hm",
      "gpuType": "V28"
    },
    "kernelspec": {
      "display_name": "Python 3",
      "name": "python3"
    },
    "language_info": {
      "name": "python"
    },
    "accelerator": "TPU"
  },
  "nbformat": 4,
  "nbformat_minor": 0
}